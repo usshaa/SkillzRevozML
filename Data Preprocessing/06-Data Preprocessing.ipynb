{
 "cells": [
  {
   "cell_type": "code",
   "execution_count": 2,
   "metadata": {},
   "outputs": [],
   "source": [
    "import pandas as pd\n",
    "import numpy as np"
   ]
  },
  {
   "cell_type": "code",
   "execution_count": 3,
   "metadata": {},
   "outputs": [],
   "source": [
    "# Sample dataset\n",
    "data = pd.DataFrame({\n",
    "    'ID': [1, 2, 3, 4, 5],\n",
    "    'Category': ['A', 'B', 'A', 'C', 'B'],\n",
    "    'Numerical_Value': [10, np.nan, 30, 40, 50],\n",
    "    'Text_Value': ['Good', 'Bad', 'Excellent', 'Good', 'Excellent']\n",
    "})"
   ]
  },
  {
   "cell_type": "code",
   "execution_count": 7,
   "metadata": {},
   "outputs": [],
   "source": [
    "from sklearn.impute import SimpleImputer\n",
    "from sklearn.preprocessing import StandardScaler, OneHotEncoder\n",
    "from sklearn.decomposition import PCA\n",
    "from sklearn.model_selection import train_test_split"
   ]
  },
  {
   "cell_type": "code",
   "execution_count": 6,
   "metadata": {},
   "outputs": [],
   "source": [
    "# 1. Data Cleaning\n",
    "# Handle missing values\n",
    "imputer = SimpleImputer(strategy='mean')\n",
    "data[['Numerical_Value']] = imputer.fit_transform(data[['Numerical_Value']])"
   ]
  },
  {
   "cell_type": "code",
   "execution_count": 52,
   "metadata": {},
   "outputs": [
    {
     "name": "stderr",
     "output_type": "stream",
     "text": [
      "/opt/conda/lib/python3.7/site-packages/sklearn/utils/deprecation.py:87: FutureWarning: Function get_feature_names is deprecated; get_feature_names is deprecated in 1.0 and will be removed in 1.2. Please use get_feature_names_out instead.\n",
      "  warnings.warn(msg, category=FutureWarning)\n"
     ]
    }
   ],
   "source": [
    "# 2. Data Transformation\n",
    "# Encode categorical variables\n",
    "encoder = OneHotEncoder()\n",
    "encoded_categorical = pd.DataFrame(encoder.fit_transform(data[['Category']]).toarray(),\n",
    "                                   columns=encoder.get_feature_names(['Category']))\n",
    "data = pd.concat([data, encoded_categorical], axis=1)\n",
    "data = data.drop(['Category'], axis=1)"
   ]
  },
  {
   "cell_type": "code",
   "execution_count": 53,
   "metadata": {},
   "outputs": [
    {
     "data": {
      "text/html": [
       "<div>\n",
       "<style scoped>\n",
       "    .dataframe tbody tr th:only-of-type {\n",
       "        vertical-align: middle;\n",
       "    }\n",
       "\n",
       "    .dataframe tbody tr th {\n",
       "        vertical-align: top;\n",
       "    }\n",
       "\n",
       "    .dataframe thead th {\n",
       "        text-align: right;\n",
       "    }\n",
       "</style>\n",
       "<table border=\"1\" class=\"dataframe\">\n",
       "  <thead>\n",
       "    <tr style=\"text-align: right;\">\n",
       "      <th></th>\n",
       "      <th>ID</th>\n",
       "      <th>Numerical_Value</th>\n",
       "      <th>Text_Value</th>\n",
       "      <th>Category_A</th>\n",
       "      <th>Category_B</th>\n",
       "      <th>Category_C</th>\n",
       "      <th>Text_Length</th>\n",
       "      <th>PCA_Component</th>\n",
       "    </tr>\n",
       "  </thead>\n",
       "  <tbody>\n",
       "    <tr>\n",
       "      <th>0</th>\n",
       "      <td>1</td>\n",
       "      <td>10.0</td>\n",
       "      <td>Good</td>\n",
       "      <td>1.0</td>\n",
       "      <td>0.0</td>\n",
       "      <td>0.0</td>\n",
       "      <td>4</td>\n",
       "      <td>22.571069</td>\n",
       "    </tr>\n",
       "    <tr>\n",
       "      <th>1</th>\n",
       "      <td>2</td>\n",
       "      <td>32.5</td>\n",
       "      <td>Bad</td>\n",
       "      <td>0.0</td>\n",
       "      <td>1.0</td>\n",
       "      <td>0.0</td>\n",
       "      <td>3</td>\n",
       "      <td>0.247013</td>\n",
       "    </tr>\n",
       "    <tr>\n",
       "      <th>2</th>\n",
       "      <td>3</td>\n",
       "      <td>30.0</td>\n",
       "      <td>Excellent</td>\n",
       "      <td>1.0</td>\n",
       "      <td>0.0</td>\n",
       "      <td>0.0</td>\n",
       "      <td>9</td>\n",
       "      <td>2.207952</td>\n",
       "    </tr>\n",
       "    <tr>\n",
       "      <th>3</th>\n",
       "      <td>4</td>\n",
       "      <td>40.0</td>\n",
       "      <td>Good</td>\n",
       "      <td>0.0</td>\n",
       "      <td>0.0</td>\n",
       "      <td>1.0</td>\n",
       "      <td>4</td>\n",
       "      <td>-7.311964</td>\n",
       "    </tr>\n",
       "    <tr>\n",
       "      <th>4</th>\n",
       "      <td>5</td>\n",
       "      <td>50.0</td>\n",
       "      <td>Excellent</td>\n",
       "      <td>0.0</td>\n",
       "      <td>1.0</td>\n",
       "      <td>0.0</td>\n",
       "      <td>9</td>\n",
       "      <td>-17.714070</td>\n",
       "    </tr>\n",
       "  </tbody>\n",
       "</table>\n",
       "</div>"
      ],
      "text/plain": [
       "   ID  Numerical_Value Text_Value  Category_A  Category_B  Category_C  \\\n",
       "0   1             10.0       Good         1.0         0.0         0.0   \n",
       "1   2             32.5        Bad         0.0         1.0         0.0   \n",
       "2   3             30.0  Excellent         1.0         0.0         0.0   \n",
       "3   4             40.0       Good         0.0         0.0         1.0   \n",
       "4   5             50.0  Excellent         0.0         1.0         0.0   \n",
       "\n",
       "   Text_Length  PCA_Component  \n",
       "0            4      22.571069  \n",
       "1            3       0.247013  \n",
       "2            9       2.207952  \n",
       "3            4      -7.311964  \n",
       "4            9     -17.714070  "
      ]
     },
     "execution_count": 53,
     "metadata": {},
     "output_type": "execute_result"
    }
   ],
   "source": [
    "# 3. Feature Engineering\n",
    "# Extract features from text\n",
    "data['Text_Length'] = data['Text_Value'].apply(len)\n",
    "\n",
    "# Dimensionality reduction\n",
    "pca = PCA(n_components=1)\n",
    "data['PCA_Component'] = pca.fit_transform(data[['Numerical_Value', 'Text_Length']])\n",
    "data"
   ]
  },
  {
   "cell_type": "code",
   "execution_count": 54,
   "metadata": {},
   "outputs": [],
   "source": [
    "# 4. Data Splitting\n",
    "X = data.drop(['ID', 'Text_Value'], axis=1)\n",
    "y = data['ID']\n",
    "X_train, X_test, y_train, y_test = train_test_split(X, y, test_size=0.2, random_state=42)"
   ]
  },
  {
   "cell_type": "code",
   "execution_count": 55,
   "metadata": {},
   "outputs": [],
   "source": [
    "# 5. Data Normalization\n",
    "# Scale numerical features\n",
    "scaler = StandardScaler()\n",
    "X_train[['Numerical_Value', 'Text_Length']] = scaler.fit_transform(X_train[['Numerical_Value', 'Text_Length']])\n",
    "X_test[['Numerical_Value', 'Text_Length']] = scaler.transform(X_test[['Numerical_Value', 'Text_Length']])"
   ]
  },
  {
   "cell_type": "code",
   "execution_count": 11,
   "metadata": {},
   "outputs": [],
   "source": [
    "import pandas as pd\n",
    "from sklearn.preprocessing import StandardScaler, OneHotEncoder\n",
    "from sklearn.impute import SimpleImputer\n",
    "from sklearn.decomposition import PCA\n",
    "from sklearn.model_selection import train_test_split"
   ]
  },
  {
   "cell_type": "code",
   "execution_count": 12,
   "metadata": {},
   "outputs": [
    {
     "data": {
      "text/html": [
       "<div>\n",
       "<style scoped>\n",
       "    .dataframe tbody tr th:only-of-type {\n",
       "        vertical-align: middle;\n",
       "    }\n",
       "\n",
       "    .dataframe tbody tr th {\n",
       "        vertical-align: top;\n",
       "    }\n",
       "\n",
       "    .dataframe thead th {\n",
       "        text-align: right;\n",
       "    }\n",
       "</style>\n",
       "<table border=\"1\" class=\"dataframe\">\n",
       "  <thead>\n",
       "    <tr style=\"text-align: right;\">\n",
       "      <th></th>\n",
       "      <th>Date</th>\n",
       "      <th>Time</th>\n",
       "      <th>Stop/Station</th>\n",
       "      <th>Passenger_Count</th>\n",
       "      <th>Vehicle_ID</th>\n",
       "      <th>Latitude</th>\n",
       "      <th>Longitude</th>\n",
       "      <th>Temperature (°C)</th>\n",
       "      <th>Precipitation (mm)</th>\n",
       "      <th>Humidity (%)</th>\n",
       "      <th>Age_Group</th>\n",
       "      <th>Gender</th>\n",
       "      <th>Feedback</th>\n",
       "    </tr>\n",
       "  </thead>\n",
       "  <tbody>\n",
       "    <tr>\n",
       "      <th>0</th>\n",
       "      <td>2023-11-16</td>\n",
       "      <td>12:03</td>\n",
       "      <td>Johor Bahru</td>\n",
       "      <td>46</td>\n",
       "      <td>TRAIN82</td>\n",
       "      <td>3.906935</td>\n",
       "      <td>106.068464</td>\n",
       "      <td>11</td>\n",
       "      <td>3</td>\n",
       "      <td>63</td>\n",
       "      <td>18-24</td>\n",
       "      <td>Male</td>\n",
       "      <td>Driver was friendly</td>\n",
       "    </tr>\n",
       "    <tr>\n",
       "      <th>1</th>\n",
       "      <td>2023-07-14</td>\n",
       "      <td>05:07</td>\n",
       "      <td>Cameron Highlands</td>\n",
       "      <td>17</td>\n",
       "      <td>TRAIN65</td>\n",
       "      <td>4.227106</td>\n",
       "      <td>118.407191</td>\n",
       "      <td>3</td>\n",
       "      <td>3</td>\n",
       "      <td>74</td>\n",
       "      <td>25-40</td>\n",
       "      <td>Female</td>\n",
       "      <td>Seats were uncomfortable</td>\n",
       "    </tr>\n",
       "    <tr>\n",
       "      <th>2</th>\n",
       "      <td>2023-09-22</td>\n",
       "      <td>14:11</td>\n",
       "      <td>Ipoh</td>\n",
       "      <td>91</td>\n",
       "      <td>TRAIN38</td>\n",
       "      <td>6.819556</td>\n",
       "      <td>101.272984</td>\n",
       "      <td>27</td>\n",
       "      <td>1</td>\n",
       "      <td>81</td>\n",
       "      <td>40-60</td>\n",
       "      <td>Male</td>\n",
       "      <td>Delay in departure</td>\n",
       "    </tr>\n",
       "    <tr>\n",
       "      <th>3</th>\n",
       "      <td>2022-07-12</td>\n",
       "      <td>09:11</td>\n",
       "      <td>Penang</td>\n",
       "      <td>41</td>\n",
       "      <td>BUS245</td>\n",
       "      <td>3.627521</td>\n",
       "      <td>106.226990</td>\n",
       "      <td>1</td>\n",
       "      <td>7</td>\n",
       "      <td>98</td>\n",
       "      <td>25-40</td>\n",
       "      <td>Female</td>\n",
       "      <td>Driver was friendly</td>\n",
       "    </tr>\n",
       "    <tr>\n",
       "      <th>4</th>\n",
       "      <td>2023-12-09</td>\n",
       "      <td>16:59</td>\n",
       "      <td>Kuching</td>\n",
       "      <td>53</td>\n",
       "      <td>BUS958</td>\n",
       "      <td>1.418952</td>\n",
       "      <td>117.050925</td>\n",
       "      <td>15</td>\n",
       "      <td>9</td>\n",
       "      <td>71</td>\n",
       "      <td>40-60</td>\n",
       "      <td>Male</td>\n",
       "      <td>Service was excellent</td>\n",
       "    </tr>\n",
       "  </tbody>\n",
       "</table>\n",
       "</div>"
      ],
      "text/plain": [
       "         Date   Time       Stop/Station  Passenger_Count Vehicle_ID  Latitude  \\\n",
       "0  2023-11-16  12:03        Johor Bahru               46    TRAIN82  3.906935   \n",
       "1  2023-07-14  05:07  Cameron Highlands               17    TRAIN65  4.227106   \n",
       "2  2023-09-22  14:11               Ipoh               91    TRAIN38  6.819556   \n",
       "3  2022-07-12  09:11             Penang               41     BUS245  3.627521   \n",
       "4  2023-12-09  16:59            Kuching               53     BUS958  1.418952   \n",
       "\n",
       "    Longitude  Temperature (°C)  Precipitation (mm)  Humidity (%) Age_Group  \\\n",
       "0  106.068464                11                   3            63     18-24   \n",
       "1  118.407191                 3                   3            74     25-40   \n",
       "2  101.272984                27                   1            81     40-60   \n",
       "3  106.226990                 1                   7            98     25-40   \n",
       "4  117.050925                15                   9            71     40-60   \n",
       "\n",
       "   Gender                  Feedback  \n",
       "0    Male       Driver was friendly  \n",
       "1  Female  Seats were uncomfortable  \n",
       "2    Male        Delay in departure  \n",
       "3  Female       Driver was friendly  \n",
       "4    Male     Service was excellent  "
      ]
     },
     "execution_count": 12,
     "metadata": {},
     "output_type": "execute_result"
    }
   ],
   "source": [
    "# Load the transportation dataset\n",
    "transport_data = pd.read_csv('synthetic_data.csv')\n",
    "transport_data.head()"
   ]
  },
  {
   "cell_type": "code",
   "execution_count": 13,
   "metadata": {},
   "outputs": [],
   "source": [
    "# 1. Data Cleaning\n",
    "# Handle missing values\n",
    "imputer = SimpleImputer(strategy='mean')\n",
    "transport_data[['Passenger_Count', 'Temperature (°C)', 'Precipitation (mm)', 'Humidity (%)']] = imputer.fit_transform(transport_data[['Passenger_Count', 'Temperature (°C)', 'Precipitation (mm)', 'Humidity (%)']])"
   ]
  },
  {
   "cell_type": "code",
   "execution_count": 14,
   "metadata": {},
   "outputs": [],
   "source": [
    "transport_data = transport_data.rename(columns={'Age Group': 'Age_Group'})"
   ]
  },
  {
   "cell_type": "code",
   "execution_count": 15,
   "metadata": {},
   "outputs": [
    {
     "name": "stderr",
     "output_type": "stream",
     "text": [
      "/opt/conda/lib/python3.7/site-packages/sklearn/utils/deprecation.py:87: FutureWarning: Function get_feature_names is deprecated; get_feature_names is deprecated in 1.0 and will be removed in 1.2. Please use get_feature_names_out instead.\n",
      "  warnings.warn(msg, category=FutureWarning)\n"
     ]
    }
   ],
   "source": [
    "# 2. Data Transformation\n",
    "# Encode categorical variables\n",
    "encoder = OneHotEncoder()\n",
    "encoded_categorical = pd.DataFrame(encoder.fit_transform(transport_data[['Age_Group', 'Gender']]).toarray(), columns=encoder.get_feature_names(['Age_Group', 'Gender']))\n",
    "transport_data = pd.concat([transport_data, encoded_categorical], axis=1)\n",
    "transport_data = transport_data.drop(['Age_Group', 'Gender'], axis=1)"
   ]
  },
  {
   "cell_type": "code",
   "execution_count": 16,
   "metadata": {},
   "outputs": [],
   "source": [
    "# 3. Feature Engineering\n",
    "# Create new features\n",
    "transport_data['Temperature_Humidity_Ratio'] = transport_data['Temperature (°C)'] / transport_data['Humidity (%)']"
   ]
  },
  {
   "cell_type": "code",
   "execution_count": 17,
   "metadata": {},
   "outputs": [],
   "source": [
    "# Dimensionality reduction\n",
    "pca = PCA(n_components=2)\n",
    "transport_data_pca = pca.fit_transform(transport_data[['Passenger_Count', 'Temperature (°C)', 'Precipitation (mm)', 'Humidity (%)']])\n",
    "transport_data['PCA_Component1'] = transport_data_pca[:, 0]\n",
    "transport_data['PCA_Component2'] = transport_data_pca[:, 1]"
   ]
  },
  {
   "cell_type": "code",
   "execution_count": 18,
   "metadata": {},
   "outputs": [],
   "source": [
    "# 4. Data Splitting\n",
    "X = transport_data.drop(['Passenger_Count'], axis=1)\n",
    "y = transport_data['Passenger_Count']\n",
    "X_train, X_test, y_train, y_test = train_test_split(X, y, test_size=0.2, random_state=42)"
   ]
  },
  {
   "cell_type": "code",
   "execution_count": 19,
   "metadata": {},
   "outputs": [],
   "source": [
    "# 5. Data Normalization\n",
    "# Scale numerical features\n",
    "scaler = StandardScaler()\n",
    "X_train[['Temperature (°C)', 'Precipitation (mm)', 'Humidity (%)', 'Temperature_Humidity_Ratio', 'PCA_Component1', 'PCA_Component2']] = scaler.fit_transform(X_train[['Temperature (°C)', 'Precipitation (mm)', 'Humidity (%)', 'Temperature_Humidity_Ratio', 'PCA_Component1', 'PCA_Component2']])\n",
    "X_test[['Temperature (°C)', 'Precipitation (mm)', 'Humidity (%)', 'Temperature_Humidity_Ratio', 'PCA_Component1', 'PCA_Component2']] = scaler.transform(X_test[['Temperature (°C)', 'Precipitation (mm)', 'Humidity (%)', 'Temperature_Humidity_Ratio', 'PCA_Component1', 'PCA_Component2']])"
   ]
  },
  {
   "cell_type": "code",
   "execution_count": null,
   "metadata": {},
   "outputs": [],
   "source": []
  }
 ],
 "metadata": {
  "kernelspec": {
   "display_name": "Python 3",
   "language": "python",
   "name": "python3"
  },
  "language_info": {
   "codemirror_mode": {
    "name": "ipython",
    "version": 3
   },
   "file_extension": ".py",
   "mimetype": "text/x-python",
   "name": "python",
   "nbconvert_exporter": "python",
   "pygments_lexer": "ipython3",
   "version": "3.7.4"
  }
 },
 "nbformat": 4,
 "nbformat_minor": 4
}
