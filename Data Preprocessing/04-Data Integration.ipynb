{
 "cells": [
  {
   "cell_type": "markdown",
   "metadata": {},
   "source": [
    "Topic 4: **Data Integration**\n",
    "\n",
    "Data integration involves combining data from multiple sources into a unified dataset for analysis or modeling purposes. This is often necessary when dealing with real-world datasets that are spread across different sources, such as databases, files, or APIs. Let's explore how to integrate multiple datasets using Python:\n",
    "\n",
    "### Combining Multiple Datasets\n",
    "\n",
    "#### a. Concatenation\n",
    "\n",
    "Concatenation is the process of combining datasets along a particular axis, either row-wise or column-wise. This is useful when datasets have the same columns and can be stacked on top of each other or side by side."
   ]
  },
  {
   "cell_type": "code",
   "execution_count": 1,
   "metadata": {},
   "outputs": [
    {
     "name": "stdout",
     "output_type": "stream",
     "text": [
      "Combined data along rows:\n",
      "   A\n",
      "0  1\n",
      "1  2\n",
      "2  3\n",
      "0  4\n",
      "1  5\n",
      "2  6\n",
      "\n",
      "Combined data along columns:\n",
      "   A  A\n",
      "0  1  4\n",
      "1  2  5\n",
      "2  3  6\n"
     ]
    }
   ],
   "source": [
    "import pandas as pd\n",
    "\n",
    "# Example datasets\n",
    "data1 = pd.DataFrame({'A': [1, 2, 3]})\n",
    "data2 = pd.DataFrame({'A': [4, 5, 6]})\n",
    "\n",
    "# Concatenating datasets along rows\n",
    "combined_data_row = pd.concat([data1, data2], axis=0)\n",
    "\n",
    "# Concatenating datasets along columns\n",
    "combined_data_col = pd.concat([data1, data2], axis=1)\n",
    "\n",
    "print(\"Combined data along rows:\")\n",
    "print(combined_data_row)\n",
    "print(\"\\nCombined data along columns:\")\n",
    "print(combined_data_col)"
   ]
  },
  {
   "cell_type": "markdown",
   "metadata": {},
   "source": [
    "#### b. Merging\n",
    "\n",
    "Merging is the process of combining datasets based on common columns or indices. This is useful when datasets have different columns but share some common identifiers."
   ]
  },
  {
   "cell_type": "code",
   "execution_count": 5,
   "metadata": {},
   "outputs": [
    {
     "name": "stdout",
     "output_type": "stream",
     "text": [
      "Merged data:\n",
      "   ID  Value1  Value2\n",
      "0   2    20.0      40\n",
      "1   3    30.0      50\n",
      "2   4     NaN      60\n"
     ]
    }
   ],
   "source": [
    "import pandas as pd\n",
    "\n",
    "# Example datasets\n",
    "data1 = pd.DataFrame({'ID': [1, 2, 3],\n",
    "                      'Value1': [10, 20, 30]})\n",
    "data2 = pd.DataFrame({'ID': [2, 3, 4],\n",
    "                      'Value2': [40, 50, 60]})\n",
    "\n",
    "# Merging datasets based on 'ID'\n",
    "merged_data = pd.merge(data1, data2, on='ID', how='right')\n",
    "\n",
    "print(\"Merged data:\")\n",
    "print(merged_data)"
   ]
  },
  {
   "cell_type": "markdown",
   "metadata": {},
   "source": [
    "#### c. Joining\n",
    "\n",
    "Joining is similar to merging but is specifically used when combining datasets based on their indices."
   ]
  },
  {
   "cell_type": "code",
   "execution_count": 6,
   "metadata": {},
   "outputs": [
    {
     "name": "stdout",
     "output_type": "stream",
     "text": [
      "Joined data:\n",
      "   Value1  Value2\n",
      "A      10     NaN\n",
      "B      20    40.0\n",
      "C      30    50.0\n"
     ]
    }
   ],
   "source": [
    "import pandas as pd\n",
    "\n",
    "# Example datasets\n",
    "data1 = pd.DataFrame({'Value1': [10, 20, 30]}, index=['A', 'B', 'C'])\n",
    "data2 = pd.DataFrame({'Value2': [40, 50, 60]}, index=['B', 'C', 'D'])\n",
    "\n",
    "# Joining datasets based on indices\n",
    "joined_data = data1.join(data2, how='left')\n",
    "\n",
    "print(\"Joined data:\")\n",
    "print(joined_data)"
   ]
  },
  {
   "cell_type": "code",
   "execution_count": null,
   "metadata": {},
   "outputs": [],
   "source": []
  }
 ],
 "metadata": {
  "kernelspec": {
   "display_name": "Python 3",
   "language": "python",
   "name": "python3"
  },
  "language_info": {
   "codemirror_mode": {
    "name": "ipython",
    "version": 3
   },
   "file_extension": ".py",
   "mimetype": "text/x-python",
   "name": "python",
   "nbconvert_exporter": "python",
   "pygments_lexer": "ipython3",
   "version": "3.7.4"
  }
 },
 "nbformat": 4,
 "nbformat_minor": 4
}
