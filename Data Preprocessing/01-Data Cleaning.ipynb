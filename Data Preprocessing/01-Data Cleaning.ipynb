{
 "cells": [
  {
   "cell_type": "markdown",
   "metadata": {},
   "source": [
    "### 1. Handling Missing Values\n",
    "\n",
    "Missing values are a common occurrence in datasets and can negatively impact the performance of machine learning models. There are several techniques to handle missing values, such as:\n",
    "\n",
    "#### a. Removing Rows with Missing Values:\n",
    "This approach involves removing entire rows containing missing values from the dataset."
   ]
  },
  {
   "cell_type": "code",
   "execution_count": 1,
   "metadata": {},
   "outputs": [
    {
     "name": "stdout",
     "output_type": "stream",
     "text": [
      "Original data with missing values:\n",
      "     A     B\n",
      "0  1.0   NaN\n",
      "1  2.0  10.0\n",
      "2  NaN  11.0\n",
      "3  4.0  12.0\n",
      "4  5.0  13.0\n",
      "\n",
      "Data after removing rows with missing values:\n",
      "     A     B\n",
      "1  2.0  10.0\n",
      "3  4.0  12.0\n",
      "4  5.0  13.0\n"
     ]
    }
   ],
   "source": [
    "import pandas as pd\n",
    "\n",
    "# Example data with missing values\n",
    "data = pd.DataFrame({'A': [1, 2, None, 4, 5],\n",
    "                     'B': [None, 10, 11, 12, 13]})\n",
    "\n",
    "# Drop rows with missing values\n",
    "data_cleaned = data.dropna()\n",
    "\n",
    "print(\"Original data with missing values:\")\n",
    "print(data)\n",
    "print(\"\\nData after removing rows with missing values:\")\n",
    "print(data_cleaned)"
   ]
  },
  {
   "cell_type": "markdown",
   "metadata": {},
   "source": [
    "#### b. Removing Columns with Missing Values:\n",
    "Alternatively, you can remove entire columns containing missing values from the dataset."
   ]
  },
  {
   "cell_type": "code",
   "execution_count": 2,
   "metadata": {},
   "outputs": [
    {
     "name": "stdout",
     "output_type": "stream",
     "text": [
      "Original data with missing values:\n",
      "     A     B  C\n",
      "0  1.0   NaN  3\n",
      "1  2.0  10.0  5\n",
      "2  NaN  11.0  1\n",
      "3  4.0  12.0  2\n",
      "4  5.0  13.0  6\n",
      "\n",
      "Data after removing columns with missing values:\n",
      "   C\n",
      "0  3\n",
      "1  5\n",
      "2  1\n",
      "3  2\n",
      "4  6\n"
     ]
    }
   ],
   "source": [
    "import pandas as pd\n",
    "\n",
    "# Example data with missing values\n",
    "data = pd.DataFrame({'A': [1, 2, None, 4, 5],\n",
    "                     'B': [None, 10, 11, 12, 13],\n",
    "                      'C': [3, 5, 1, 2, 6]  })\n",
    "\n",
    "# Drop columns with missing values\n",
    "data_cleaned = data.dropna(axis=1)\n",
    "\n",
    "print(\"Original data with missing values:\")\n",
    "print(data)\n",
    "print(\"\\nData after removing columns with missing values:\")\n",
    "print(data_cleaned)"
   ]
  },
  {
   "cell_type": "markdown",
   "metadata": {},
   "source": [
    "#### c. Imputation:\n",
    "Imputation involves replacing missing values with a substitute value, such as the mean, median, or mode of the column."
   ]
  },
  {
   "cell_type": "code",
   "execution_count": 3,
   "metadata": {},
   "outputs": [
    {
     "name": "stdout",
     "output_type": "stream",
     "text": [
      "Original data with missing values:\n",
      "     A     B\n",
      "0  1.0   NaN\n",
      "1  2.0  10.0\n",
      "2  NaN  11.0\n",
      "3  4.0  12.0\n",
      "4  5.0  13.0\n",
      "\n",
      "Data after imputation:\n",
      "     A     B\n",
      "0  1.0  11.5\n",
      "1  2.0  10.0\n",
      "2  3.0  11.0\n",
      "3  4.0  12.0\n",
      "4  5.0  13.0\n"
     ]
    }
   ],
   "source": [
    "import pandas as pd\n",
    "from sklearn.impute import SimpleImputer\n",
    "\n",
    "# Example data with missing values\n",
    "data = pd.DataFrame({'A': [1, 2, None, 4, 5],\n",
    "                     'B': [None, 10, 11, 12, 13]})\n",
    "\n",
    "# Impute missing values using mean\n",
    "imputer = SimpleImputer(strategy='mean')\n",
    "data_imputed = imputer.fit_transform(data)\n",
    "data_imputed = pd.DataFrame(data_imputed, columns=data.columns)\n",
    "\n",
    "print(\"Original data with missing values:\")\n",
    "print(data)\n",
    "print(\"\\nData after imputation:\")\n",
    "print(data_imputed)"
   ]
  },
  {
   "cell_type": "markdown",
   "metadata": {},
   "source": [
    "### 2. Handling Outliers\n",
    "\n",
    "Outliers are data points that significantly differ from the rest of the data. They can skew statistical analyses and machine learning models. Common techniques to handle outliers include:\n",
    "\n",
    "#### a. Detecting Outliers:\n",
    "One common method to detect outliers is using the z-score, which measures the number of standard deviations a data point is from the mean."
   ]
  },
  {
   "cell_type": "code",
   "execution_count": 4,
   "metadata": {},
   "outputs": [
    {
     "name": "stdout",
     "output_type": "stream",
     "text": [
      "Outliers:\n",
      "Empty DataFrame\n",
      "Columns: [A]\n",
      "Index: []\n"
     ]
    }
   ],
   "source": [
    "import pandas as pd\n",
    "import numpy as np\n",
    "\n",
    "# Example data with outliers\n",
    "data = pd.DataFrame({'A': np.random.normal(loc=0, scale=1, size=100)})\n",
    "\n",
    "# Detecting outliers using z-score\n",
    "z_scores = (data['A'] - data['A'].mean()) / data['A'].std()\n",
    "outliers = data[np.abs(z_scores) > 3]\n",
    "\n",
    "print(\"Outliers:\")\n",
    "print(outliers)"
   ]
  },
  {
   "cell_type": "markdown",
   "metadata": {},
   "source": [
    "#### b. Removing Outliers:\n",
    "You can choose to remove outliers from the dataset."
   ]
  },
  {
   "cell_type": "code",
   "execution_count": 82,
   "metadata": {},
   "outputs": [
    {
     "name": "stdout",
     "output_type": "stream",
     "text": [
      "Original data:\n",
      "          A\n",
      "0  0.993428\n",
      "1 -0.276529\n",
      "2  1.295377\n",
      "3  3.046060\n",
      "4 -0.468307\n",
      "\n",
      "Data with outliers removed:\n",
      "A    100\n",
      "dtype: int64\n"
     ]
    }
   ],
   "source": [
    "import pandas as pd\n",
    "import numpy as np\n",
    "\n",
    "np.random.seed(42)\n",
    "# Example data with outliers\n",
    "data = pd.DataFrame({'A': np.random.normal(loc=0, scale=2, size=100)})\n",
    "\n",
    "# Detecting outliers using z-score\n",
    "z_scores = (data['A'] - data['A'].mean()) / data['A'].std()\n",
    "outliers = data[np.abs(z_scores) > 3]\n",
    "\n",
    "# Removing outliers\n",
    "data_cleaned = data.drop(outliers.index)\n",
    "\n",
    "print(\"Original data:\")\n",
    "print(data.head())\n",
    "print(\"\\nData with outliers removed:\")\n",
    "print(data_cleaned.count())"
   ]
  },
  {
   "cell_type": "code",
   "execution_count": 83,
   "metadata": {},
   "outputs": [],
   "source": [
    "Q1 = data.quantile(0.25)\n",
    "Q3 = data.quantile(0.75)\n",
    "IQR = Q3-Q1\n",
    "Lower = Q1-(1.5*IQR)\n",
    "Upper = Q3+(1.5*IQR)"
   ]
  },
  {
   "cell_type": "code",
   "execution_count": 84,
   "metadata": {},
   "outputs": [
    {
     "data": {
      "text/plain": [
       "A   -4.222385\n",
       "dtype: float64"
      ]
     },
     "execution_count": 84,
     "metadata": {},
     "output_type": "execute_result"
    }
   ],
   "source": [
    "Lower"
   ]
  },
  {
   "cell_type": "code",
   "execution_count": 85,
   "metadata": {},
   "outputs": [
    {
     "data": {
      "text/plain": [
       "A    3.832477\n",
       "dtype: float64"
      ]
     },
     "execution_count": 85,
     "metadata": {},
     "output_type": "execute_result"
    }
   ],
   "source": [
    "Upper"
   ]
  },
  {
   "cell_type": "code",
   "execution_count": 89,
   "metadata": {},
   "outputs": [],
   "source": [
    "outlier = (data['A']>Upper['A']) | (data['A']<Lower['A'])"
   ]
  },
  {
   "cell_type": "code",
   "execution_count": 90,
   "metadata": {},
   "outputs": [
    {
     "data": {
      "text/plain": [
       "A    1\n",
       "dtype: int64"
      ]
     },
     "execution_count": 90,
     "metadata": {},
     "output_type": "execute_result"
    }
   ],
   "source": [
    "data[outlier].count()"
   ]
  },
  {
   "cell_type": "code",
   "execution_count": 91,
   "metadata": {},
   "outputs": [
    {
     "data": {
      "text/html": [
       "<div>\n",
       "<style scoped>\n",
       "    .dataframe tbody tr th:only-of-type {\n",
       "        vertical-align: middle;\n",
       "    }\n",
       "\n",
       "    .dataframe tbody tr th {\n",
       "        vertical-align: top;\n",
       "    }\n",
       "\n",
       "    .dataframe thead th {\n",
       "        text-align: right;\n",
       "    }\n",
       "</style>\n",
       "<table border=\"1\" class=\"dataframe\">\n",
       "  <thead>\n",
       "    <tr style=\"text-align: right;\">\n",
       "      <th></th>\n",
       "      <th>A</th>\n",
       "    </tr>\n",
       "  </thead>\n",
       "  <tbody>\n",
       "    <tr>\n",
       "      <th>74</th>\n",
       "      <td>-5.23949</td>\n",
       "    </tr>\n",
       "  </tbody>\n",
       "</table>\n",
       "</div>"
      ],
      "text/plain": [
       "          A\n",
       "74 -5.23949"
      ]
     },
     "execution_count": 91,
     "metadata": {},
     "output_type": "execute_result"
    }
   ],
   "source": [
    "data[outlier]"
   ]
  },
  {
   "cell_type": "code",
   "execution_count": null,
   "metadata": {},
   "outputs": [],
   "source": []
  },
  {
   "cell_type": "code",
   "execution_count": null,
   "metadata": {},
   "outputs": [],
   "source": []
  }
 ],
 "metadata": {
  "kernelspec": {
   "display_name": "Python 3",
   "language": "python",
   "name": "python3"
  },
  "language_info": {
   "codemirror_mode": {
    "name": "ipython",
    "version": 3
   },
   "file_extension": ".py",
   "mimetype": "text/x-python",
   "name": "python",
   "nbconvert_exporter": "python",
   "pygments_lexer": "ipython3",
   "version": "3.7.4"
  }
 },
 "nbformat": 4,
 "nbformat_minor": 4
}
