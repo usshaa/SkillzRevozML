{
 "cells": [
  {
   "cell_type": "markdown",
   "metadata": {},
   "source": [
    "Topic 2: **Data Transformation**\n",
    "\n",
    "Data transformation involves converting the raw data into a format that is suitable for analysis or modeling. This typically includes encoding categorical variables into numerical representations, scaling numerical features, and performing feature engineering to create new features or transform existing ones. Let's explore each aspect in detail:\n",
    "\n",
    "### 1. Encoding Categorical Variables\n",
    "\n",
    "Categorical variables are variables that represent categories rather than numerical values. Many machine learning algorithms require numerical input, so categorical variables need to be encoded into numerical representations. Common techniques include:\n",
    "\n",
    "#### a. One-Hot Encoding\n",
    "In one-hot encoding, each category is represented by a binary vector where only one element is 1 (hot) and the rest are 0 (cold)."
   ]
  },
  {
   "cell_type": "code",
   "execution_count": 1,
   "metadata": {},
   "outputs": [
    {
     "name": "stdout",
     "output_type": "stream",
     "text": [
      "Original data:\n",
      "  Category\n",
      "0        A\n",
      "1        B\n",
      "2        C\n",
      "3        A\n",
      "4        B\n",
      "5        C\n",
      "\n",
      "One-hot encoded data:\n",
      "   Category_A  Category_B  Category_C\n",
      "0           1           0           0\n",
      "1           0           1           0\n",
      "2           0           0           1\n",
      "3           1           0           0\n",
      "4           0           1           0\n",
      "5           0           0           1\n"
     ]
    }
   ],
   "source": [
    "import pandas as pd\n",
    "\n",
    "# Example data with categorical variable\n",
    "data = pd.DataFrame({'Category': ['A', 'B', 'C', 'A', 'B', 'C']})\n",
    "\n",
    "# One-hot encoding\n",
    "data_encoded = pd.get_dummies(data, columns=['Category'])\n",
    "\n",
    "print(\"Original data:\")\n",
    "print(data)\n",
    "print(\"\\nOne-hot encoded data:\")\n",
    "print(data_encoded)"
   ]
  },
  {
   "cell_type": "markdown",
   "metadata": {},
   "source": [
    "#### b. Label Encoding\n",
    "In label encoding, each category is assigned a unique integer."
   ]
  },
  {
   "cell_type": "code",
   "execution_count": 2,
   "metadata": {},
   "outputs": [
    {
     "name": "stdout",
     "output_type": "stream",
     "text": [
      "Original data:\n",
      "  Category  Category_Encoded\n",
      "0        A                 0\n",
      "1        B                 1\n",
      "2        C                 2\n",
      "3        A                 0\n",
      "4        B                 1\n",
      "5        C                 2\n"
     ]
    }
   ],
   "source": [
    "from sklearn.preprocessing import LabelEncoder\n",
    "\n",
    "# Example data with categorical variable\n",
    "data = pd.DataFrame({'Category': ['A', 'B', 'C', 'A', 'B', 'C']})\n",
    "\n",
    "# Label encoding\n",
    "label_encoder = LabelEncoder()\n",
    "data['Category_Encoded'] = label_encoder.fit_transform(data['Category'])\n",
    "\n",
    "print(\"Original data:\")\n",
    "print(data)"
   ]
  },
  {
   "cell_type": "markdown",
   "metadata": {},
   "source": [
    "### 2. Scaling Features\n",
    "\n",
    "Scaling numerical features ensures that all features have a similar scale, which can improve the performance of certain machine learning algorithms. Common scaling techniques include:\n",
    "\n",
    "#### a. Min-Max Scaling\n",
    "Min-max scaling scales features to a specified range, typically between 0 and 1."
   ]
  },
  {
   "cell_type": "code",
   "execution_count": 3,
   "metadata": {},
   "outputs": [
    {
     "name": "stdout",
     "output_type": "stream",
     "text": [
      "Original data:\n",
      "   Feature1\n",
      "0         1\n",
      "1         2\n",
      "2         3\n",
      "3         4\n",
      "4         5\n",
      "\n",
      "Scaled data:\n",
      "   Feature1\n",
      "0      0.00\n",
      "1      0.25\n",
      "2      0.50\n",
      "3      0.75\n",
      "4      1.00\n"
     ]
    }
   ],
   "source": [
    "from sklearn.preprocessing import MinMaxScaler\n",
    "\n",
    "# Example data with numerical features\n",
    "data = pd.DataFrame({'Feature1': [1, 2, 3, 4, 5]})\n",
    "\n",
    "# Min-max scaling\n",
    "scaler = MinMaxScaler()\n",
    "data_scaled = scaler.fit_transform(data)\n",
    "data_scaled = pd.DataFrame(data_scaled, columns=data.columns)\n",
    "\n",
    "print(\"Original data:\")\n",
    "print(data)\n",
    "print(\"\\nScaled data:\")\n",
    "print(data_scaled)"
   ]
  },
  {
   "cell_type": "markdown",
   "metadata": {},
   "source": [
    "#### b. Standardization (Z-score Scaling)\n",
    "Standardization scales features to have a mean of 0 and a standard deviation of 1."
   ]
  },
  {
   "cell_type": "code",
   "execution_count": 4,
   "metadata": {},
   "outputs": [
    {
     "name": "stdout",
     "output_type": "stream",
     "text": [
      "Original data:\n",
      "   Feature1\n",
      "0         1\n",
      "1         2\n",
      "2         3\n",
      "3         4\n",
      "4         5\n",
      "\n",
      "Scaled data:\n",
      "   Feature1\n",
      "0 -1.414214\n",
      "1 -0.707107\n",
      "2  0.000000\n",
      "3  0.707107\n",
      "4  1.414214\n"
     ]
    }
   ],
   "source": [
    "from sklearn.preprocessing import StandardScaler\n",
    "\n",
    "# Example data with numerical features\n",
    "data = pd.DataFrame({'Feature1': [1, 2, 3, 4, 5]})\n",
    "\n",
    "# Z-score scaling\n",
    "scaler = StandardScaler()\n",
    "data_scaled = scaler.fit_transform(data)\n",
    "data_scaled = pd.DataFrame(data_scaled, columns=data.columns)\n",
    "\n",
    "print(\"Original data:\")\n",
    "print(data)\n",
    "print(\"\\nScaled data:\")\n",
    "print(data_scaled)"
   ]
  },
  {
   "cell_type": "markdown",
   "metadata": {},
   "source": [
    "### 3. Feature Engineering\n",
    "\n",
    "Feature engineering involves creating new features from existing ones or transforming features to improve the performance of machine learning models. Common techniques include:\n",
    "\n",
    "#### a. Creating New Features"
   ]
  },
  {
   "cell_type": "code",
   "execution_count": 5,
   "metadata": {},
   "outputs": [
    {
     "name": "stdout",
     "output_type": "stream",
     "text": [
      "Original data:\n",
      "   Feature1  Feature2\n",
      "0         1         1\n",
      "1         2         4\n",
      "2         3         9\n",
      "3         4        16\n",
      "4         5        25\n"
     ]
    }
   ],
   "source": [
    "import pandas as pd\n",
    "\n",
    "# Example data\n",
    "data = pd.DataFrame({'Feature1': [1, 2, 3, 4, 5]})\n",
    "\n",
    "# Creating a new feature\n",
    "data['Feature2'] = data['Feature1'] ** 2\n",
    "\n",
    "print(\"Original data:\")\n",
    "print(data)"
   ]
  },
  {
   "cell_type": "markdown",
   "metadata": {},
   "source": [
    "#### b. Transformation"
   ]
  },
  {
   "cell_type": "code",
   "execution_count": 9,
   "metadata": {},
   "outputs": [
    {
     "name": "stdout",
     "output_type": "stream",
     "text": [
      "Original data:\n",
      "   Feature1  Log_Feature1\n",
      "0         1      0.000000\n",
      "1         2      0.693147\n",
      "2         3      1.098612\n",
      "3         4      1.386294\n",
      "4         5      1.609438\n"
     ]
    }
   ],
   "source": [
    "import pandas as pd\n",
    "import numpy as np\n",
    "\n",
    "# Example data\n",
    "data = pd.DataFrame({'Feature1': [1, 2, 3, 4, 5]})\n",
    "\n",
    "# Log transformation\n",
    "data['Log_Feature1'] = np.log(data['Feature1'])\n",
    "\n",
    "print(\"Original data:\")\n",
    "print(data)"
   ]
  },
  {
   "cell_type": "code",
   "execution_count": null,
   "metadata": {},
   "outputs": [],
   "source": []
  }
 ],
 "metadata": {
  "kernelspec": {
   "display_name": "Python 3",
   "language": "python",
   "name": "python3"
  },
  "language_info": {
   "codemirror_mode": {
    "name": "ipython",
    "version": 3
   },
   "file_extension": ".py",
   "mimetype": "text/x-python",
   "name": "python",
   "nbconvert_exporter": "python",
   "pygments_lexer": "ipython3",
   "version": "3.7.4"
  }
 },
 "nbformat": 4,
 "nbformat_minor": 4
}
