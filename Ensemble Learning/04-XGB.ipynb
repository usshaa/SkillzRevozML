{
 "cells": [
  {
   "cell_type": "markdown",
   "metadata": {},
   "source": [
    "### Predicting Tax Fraud Using XGBoost"
   ]
  },
  {
   "cell_type": "markdown",
   "metadata": {},
   "source": [
    "#### Step 1: Generate Synthetic Data\n",
    "\n",
    "First, we'll generate synthetic data that resembles real-world features typically found in tax-related datasets. For this example, we'll create features such as income, deductions, audit score, age, marital status, and number of dependents. We'll also simulate a binary target variable (`fraud_label`) indicating whether fraud was detected or not."
   ]
  },
  {
   "cell_type": "code",
   "execution_count": 1,
   "metadata": {},
   "outputs": [
    {
     "data": {
      "text/html": [
       "<div>\n",
       "<style scoped>\n",
       "    .dataframe tbody tr th:only-of-type {\n",
       "        vertical-align: middle;\n",
       "    }\n",
       "\n",
       "    .dataframe tbody tr th {\n",
       "        vertical-align: top;\n",
       "    }\n",
       "\n",
       "    .dataframe thead th {\n",
       "        text-align: right;\n",
       "    }\n",
       "</style>\n",
       "<table border=\"1\" class=\"dataframe\">\n",
       "  <thead>\n",
       "    <tr style=\"text-align: right;\">\n",
       "      <th></th>\n",
       "      <th>income</th>\n",
       "      <th>deductions</th>\n",
       "      <th>audit_score</th>\n",
       "      <th>age</th>\n",
       "      <th>is_married</th>\n",
       "      <th>num_dependents</th>\n",
       "      <th>fraud_label</th>\n",
       "    </tr>\n",
       "  </thead>\n",
       "  <tbody>\n",
       "    <tr>\n",
       "      <th>0</th>\n",
       "      <td>57450.712295</td>\n",
       "      <td>6607.526348</td>\n",
       "      <td>0.055666</td>\n",
       "      <td>50</td>\n",
       "      <td>0</td>\n",
       "      <td>1</td>\n",
       "      <td>1</td>\n",
       "    </tr>\n",
       "    <tr>\n",
       "      <th>1</th>\n",
       "      <td>47926.035482</td>\n",
       "      <td>8472.502685</td>\n",
       "      <td>0.985768</td>\n",
       "      <td>44</td>\n",
       "      <td>0</td>\n",
       "      <td>2</td>\n",
       "      <td>0</td>\n",
       "    </tr>\n",
       "    <tr>\n",
       "      <th>2</th>\n",
       "      <td>59715.328072</td>\n",
       "      <td>7013.094695</td>\n",
       "      <td>0.800018</td>\n",
       "      <td>27</td>\n",
       "      <td>0</td>\n",
       "      <td>2</td>\n",
       "      <td>0</td>\n",
       "    </tr>\n",
       "    <tr>\n",
       "      <th>3</th>\n",
       "      <td>72845.447846</td>\n",
       "      <td>10552.090235</td>\n",
       "      <td>0.868809</td>\n",
       "      <td>31</td>\n",
       "      <td>0</td>\n",
       "      <td>3</td>\n",
       "      <td>0</td>\n",
       "    </tr>\n",
       "    <tr>\n",
       "      <th>4</th>\n",
       "      <td>46487.699379</td>\n",
       "      <td>15985.892657</td>\n",
       "      <td>0.694294</td>\n",
       "      <td>21</td>\n",
       "      <td>1</td>\n",
       "      <td>4</td>\n",
       "      <td>0</td>\n",
       "    </tr>\n",
       "  </tbody>\n",
       "</table>\n",
       "</div>"
      ],
      "text/plain": [
       "         income    deductions  audit_score  age  is_married  num_dependents  \\\n",
       "0  57450.712295   6607.526348     0.055666   50           0               1   \n",
       "1  47926.035482   8472.502685     0.985768   44           0               2   \n",
       "2  59715.328072   7013.094695     0.800018   27           0               2   \n",
       "3  72845.447846  10552.090235     0.868809   31           0               3   \n",
       "4  46487.699379  15985.892657     0.694294   21           1               4   \n",
       "\n",
       "   fraud_label  \n",
       "0            1  \n",
       "1            0  \n",
       "2            0  \n",
       "3            0  \n",
       "4            0  "
      ]
     },
     "execution_count": 1,
     "metadata": {},
     "output_type": "execute_result"
    }
   ],
   "source": [
    "import numpy as np\n",
    "import pandas as pd\n",
    "\n",
    "# Set random seed for reproducibility\n",
    "np.random.seed(42)\n",
    "\n",
    "# Number of samples\n",
    "n_samples = 10000\n",
    "\n",
    "# Simulated features\n",
    "income = np.random.normal(50000, 15000, n_samples)  # Normal distribution for income\n",
    "deductions = np.random.normal(10000, 5000, n_samples)  # Normal distribution for deductions\n",
    "audit_score = np.random.uniform(0, 1, n_samples)  # Uniform distribution for audit score\n",
    "age = np.random.randint(20, 70, n_samples)  # Random integers for age\n",
    "is_married = np.random.choice([0, 1], size=n_samples, p=[0.6, 0.4])  # Binary distribution for marital status\n",
    "num_dependents = np.random.randint(0, 5, n_samples)  # Random integers for number of dependents\n",
    "\n",
    "# Simulated target variable: 1 if fraud detected, 0 otherwise\n",
    "# Adjusting probabilities based on features\n",
    "fraud_prob = 1 / (1 + np.exp(-(deductions / 10000 - audit_score * 10 + income / 50000 - 0.5 * age / 70 + 0.1 * num_dependents - 2 * is_married + np.random.normal(0, 0.3, n_samples))))\n",
    "fraud_label = np.random.binomial(1, fraud_prob)\n",
    "\n",
    "# Create a DataFrame\n",
    "data = pd.DataFrame({\n",
    "    'income': income,\n",
    "    'deductions': deductions,\n",
    "    'audit_score': audit_score,\n",
    "    'age': age,\n",
    "    'is_married': is_married,\n",
    "    'num_dependents': num_dependents,\n",
    "    'fraud_label': fraud_label\n",
    "})\n",
    "\n",
    "# Display the first few rows of the data\n",
    "data.head()"
   ]
  },
  {
   "cell_type": "markdown",
   "metadata": {},
   "source": [
    "### Visualizing Synthetic Data Distribution\n",
    "First, let's visualize the distribution of some key features in our synthetic dataset:"
   ]
  },
  {
   "cell_type": "code",
   "execution_count": 2,
   "metadata": {},
   "outputs": [],
   "source": [
    "import matplotlib.pyplot as plt\n",
    "import seaborn as sns"
   ]
  },
  {
   "cell_type": "code",
   "execution_count": 3,
   "metadata": {},
   "outputs": [
    {
     "data": {
      "image/png": "[encoded data removed]",
      "text/plain": [
       "<Figure size 1080x360 with 3 Axes>"
      ]
     },
     "metadata": {
      "needs_background": "light"
     },
     "output_type": "display_data"
    }
   ],
   "source": [
    "# Plot distributions of income, deductions, and audit_score\n",
    "plt.figure(figsize=(15, 5))\n",
    "\n",
    "plt.subplot(1, 3, 1)\n",
    "sns.histplot(data['income'], bins=30, kde=True, color='blue', alpha=0.7)\n",
    "plt.xlabel('Income')\n",
    "plt.title('Distribution of Income')\n",
    "\n",
    "plt.subplot(1, 3, 2)\n",
    "sns.histplot(data['deductions'], bins=30, kde=True, color='green', alpha=0.7)\n",
    "plt.xlabel('Deductions')\n",
    "plt.title('Distribution of Deductions')\n",
    "\n",
    "plt.subplot(1, 3, 3)\n",
    "sns.histplot(data['audit_score'], bins=30, kde=True, color='orange', alpha=0.7)\n",
    "plt.xlabel('Audit Score')\n",
    "plt.title('Distribution of Audit Score')\n",
    "\n",
    "plt.tight_layout()\n",
    "plt.show()"
   ]
  },
  {
   "cell_type": "markdown",
   "metadata": {},
   "source": [
    "#### Step 2: Prepare Data for Modeling\n",
    "\n",
    "Next, we prepare the data for training and testing the XGBoost model. This involves separating the features (`X`) from the target variable (`y`) and splitting the data into training and testing sets."
   ]
  },
  {
   "cell_type": "code",
   "execution_count": 4,
   "metadata": {},
   "outputs": [],
   "source": [
    "from sklearn.model_selection import train_test_split"
   ]
  },
  {
   "cell_type": "code",
   "execution_count": 5,
   "metadata": {},
   "outputs": [],
   "source": [
    "# Separate features and target variable\n",
    "X = data.drop('fraud_label', axis=1)\n",
    "y = data['fraud_label']"
   ]
  },
  {
   "cell_type": "code",
   "execution_count": 6,
   "metadata": {},
   "outputs": [],
   "source": [
    "# Split data into training and testing sets (80% train, 20% test)\n",
    "X_train, X_test, y_train, y_test = train_test_split(X, y, test_size=0.2, random_state=42)"
   ]
  },
  {
   "cell_type": "code",
   "execution_count": 7,
   "metadata": {},
   "outputs": [
    {
     "name": "stdout",
     "output_type": "stream",
     "text": [
      "Training set: (8000, 6), Testing set: (2000, 6)\n"
     ]
    }
   ],
   "source": [
    "# Display the shapes of the datasets\n",
    "print(f\"Training set: {X_train.shape}, Testing set: {X_test.shape}\")"
   ]
  },
  {
   "cell_type": "markdown",
   "metadata": {},
   "source": [
    "#### Step 3: Train an XGBoost Model\n",
    "\n",
    "Now, we'll define an XGBoost model and train it using the training data."
   ]
  },
  {
   "cell_type": "code",
   "execution_count": 8,
   "metadata": {},
   "outputs": [],
   "source": [
    "import xgboost as xgb"
   ]
  },
  {
   "cell_type": "code",
   "execution_count": 10,
   "metadata": {},
   "outputs": [],
   "source": [
    "# Define XGBoost parameters\n",
    "params = {\n",
    "    'objective': 'binary:logistic',\n",
    "    'eval_metric': 'auc',\n",
    "    'eta': 0.1,\n",
    "    'max_depth': 6,\n",
    "    'subsample': 0.8,\n",
    "    'colsample_bytree': 0.8,\n",
    "    'seed': 42\n",
    "}"
   ]
  },
  {
   "cell_type": "markdown",
   "metadata": {},
   "source": [
    "Using DMatrix format in XGBoost ensures optimal performance, efficient memory usage, and seamless integration with the underlying C++ implementation. While it adds a step of conversion from traditional data structures, the benefits in terms of speed and scalability make it a preferred choice for working with large-scale datasets in XGBoost."
   ]
  },
  {
   "cell_type": "code",
   "execution_count": 12,
   "metadata": {},
   "outputs": [],
   "source": [
    "# Convert data to DMatrix format for XGBoost\n",
    "dtrain = xgb.DMatrix(X_train, label=y_train)\n",
    "dtest = xgb.DMatrix(X_test, label=y_test)"
   ]
  },
  {
   "cell_type": "code",
   "execution_count": 17,
   "metadata": {},
   "outputs": [
    {
     "name": "stdout",
     "output_type": "stream",
     "text": [
      "[0]\tTest-auc:0.54214\n",
      "[50]\tTest-auc:0.90540\n",
      "[92]\tTest-auc:0.90456\n"
     ]
    }
   ],
   "source": [
    "# Train the model\n",
    "model = xgb.train(params, dtrain, num_boost_round=1000, evals=[(dtest, 'Test')],\n",
    "                  early_stopping_rounds=50, verbose_eval=50)"
   ]
  },
  {
   "cell_type": "markdown",
   "metadata": {},
   "source": [
    "#### Step 4: Evaluate the Model\n",
    "\n",
    "After training the model, evaluate its performance on the test set using metrics such as accuracy, precision, recall, and ROC-AUC."
   ]
  },
  {
   "cell_type": "code",
   "execution_count": 18,
   "metadata": {},
   "outputs": [],
   "source": [
    "from sklearn.metrics import accuracy_score, precision_score, recall_score, roc_auc_score"
   ]
  },
  {
   "cell_type": "code",
   "execution_count": 19,
   "metadata": {},
   "outputs": [],
   "source": [
    "# Make predictions on the test set\n",
    "y_pred = model.predict(dtest)\n",
    "y_pred_binary = [1 if p >= 0.5 else 0 for p in y_pred]"
   ]
  },
  {
   "cell_type": "code",
   "execution_count": 20,
   "metadata": {},
   "outputs": [],
   "source": [
    "# Evaluate the model\n",
    "accuracy = accuracy_score(y_test, y_pred_binary)\n",
    "precision = precision_score(y_test, y_pred_binary)\n",
    "recall = recall_score(y_test, y_pred_binary)\n",
    "roc_auc = roc_auc_score(y_test, y_pred)"
   ]
  },
  {
   "cell_type": "code",
   "execution_count": 21,
   "metadata": {},
   "outputs": [
    {
     "name": "stdout",
     "output_type": "stream",
     "text": [
      "Accuracy: 0.8880, Precision: 0.6667, Recall: 0.4916, ROC-AUC: 0.9046\n"
     ]
    }
   ],
   "source": [
    "print(f\"Accuracy: {accuracy:.4f}, Precision: {precision:.4f}, Recall: {recall:.4f}, ROC-AUC: {roc_auc:.4f}\")"
   ]
  },
  {
   "cell_type": "markdown",
   "metadata": {},
   "source": [
    "### Visualizing Model Performance\n",
    "Next, let's visualize the ROC curve for our XGBoost model to understand its performance:"
   ]
  },
  {
   "cell_type": "code",
   "execution_count": 22,
   "metadata": {},
   "outputs": [],
   "source": [
    "from sklearn.metrics import roc_curve"
   ]
  },
  {
   "cell_type": "code",
   "execution_count": 23,
   "metadata": {},
   "outputs": [
    {
     "data": {
      "image/png": "[encoded data removed]",
      "text/plain": [
       "<Figure size 576x432 with 1 Axes>"
      ]
     },
     "metadata": {
      "needs_background": "light"
     },
     "output_type": "display_data"
    }
   ],
   "source": [
    "# Compute ROC curve and ROC area for each class\n",
    "fpr, tpr, _ = roc_curve(y_test, y_pred)\n",
    "\n",
    "# Plot ROC curve\n",
    "plt.figure(figsize=(8, 6))\n",
    "plt.plot(fpr, tpr, color='blue', lw=2, label=f'ROC curve (AUC = {roc_auc:.2f})')\n",
    "plt.plot([0, 1], [0, 1], color='gray', linestyle='--')\n",
    "plt.xlim([0.0, 1.0])\n",
    "plt.ylim([0.0, 1.05])\n",
    "plt.xlabel('False Positive Rate')\n",
    "plt.ylabel('True Positive Rate')\n",
    "plt.title('Receiver Operating Characteristic (ROC) Curve')\n",
    "plt.legend(loc='lower right')\n",
    "plt.show()"
   ]
  },
  {
   "cell_type": "markdown",
   "metadata": {},
   "source": [
    "### Model Validation with New Sample"
   ]
  },
  {
   "cell_type": "markdown",
   "metadata": {},
   "source": [
    "#### Step 1: Prepare the New Sample"
   ]
  },
  {
   "cell_type": "code",
   "execution_count": 24,
   "metadata": {},
   "outputs": [],
   "source": [
    "# Example of a new sample (make sure the feature order matches the training data)\n",
    "new_sample = {\n",
    "    'income': 60000,\n",
    "    'deductions': 15000,\n",
    "    'audit_score': 0.7,\n",
    "    'age': 45,\n",
    "    'is_married': 1,\n",
    "    'num_dependents': 2\n",
    "}"
   ]
  },
  {
   "cell_type": "code",
   "execution_count": 25,
   "metadata": {},
   "outputs": [],
   "source": [
    "# Convert the new sample to a DataFrame (if your model expects a DataFrame)\n",
    "new_sample_df = pd.DataFrame([new_sample])"
   ]
  },
  {
   "cell_type": "code",
   "execution_count": 26,
   "metadata": {},
   "outputs": [
    {
     "name": "stdout",
     "output_type": "stream",
     "text": [
      "   income  deductions  audit_score  age  is_married  num_dependents\n",
      "0   60000       15000          0.7   45           1               2\n"
     ]
    }
   ],
   "source": [
    "# Display the new sample\n",
    "print(new_sample_df)"
   ]
  },
  {
   "cell_type": "markdown",
   "metadata": {},
   "source": [
    "#### Step 2: Convert the New Sample to `DMatrix`"
   ]
  },
  {
   "cell_type": "markdown",
   "metadata": {},
   "source": [
    "Convert the new sample to a `DMatrix` object, which is the format expected by XGBoost for predictions."
   ]
  },
  {
   "cell_type": "code",
   "execution_count": 27,
   "metadata": {},
   "outputs": [],
   "source": [
    "# Convert the new sample to DMatrix format\n",
    "dnew = xgb.DMatrix(new_sample_df)"
   ]
  },
  {
   "cell_type": "markdown",
   "metadata": {},
   "source": [
    "#### Step 3: Predict the Outcome\n",
    "\n",
    "Use the trained model to make a prediction for the new sample."
   ]
  },
  {
   "cell_type": "code",
   "execution_count": 28,
   "metadata": {},
   "outputs": [],
   "source": [
    "# Predict the outcome for the new sample\n",
    "new_sample_pred = model.predict(dnew)"
   ]
  },
  {
   "cell_type": "code",
   "execution_count": 29,
   "metadata": {},
   "outputs": [],
   "source": [
    "# Since the output is a probability, convert it to a binary prediction if needed\n",
    "new_sample_pred_binary = [1 if p >= 0.5 else 0 for p in new_sample_pred]"
   ]
  },
  {
   "cell_type": "code",
   "execution_count": 31,
   "metadata": {},
   "outputs": [
    {
     "name": "stdout",
     "output_type": "stream",
     "text": [
      "Predicted probability of fraud: 0.0024\n",
      "Predicted fraud label: 0\n"
     ]
    }
   ],
   "source": [
    "# Display the prediction\n",
    "print(f\"Predicted probability of fraud: {new_sample_pred[0]:.4f}\")\n",
    "print(f\"Predicted fraud label: {new_sample_pred_binary[0]}\")"
   ]
  }
 ],
 "metadata": {
  "kernelspec": {
   "display_name": "Python 3",
   "language": "python",
   "name": "python3"
  },
  "language_info": {
   "codemirror_mode": {
    "name": "ipython",
    "version": 3
   },
   "file_extension": ".py",
   "mimetype": "text/x-python",
   "name": "python",
   "nbconvert_exporter": "python",
   "pygments_lexer": "ipython3",
   "version": "3.7.4"
  }
 },
 "nbformat": 4,
 "nbformat_minor": 4
}
