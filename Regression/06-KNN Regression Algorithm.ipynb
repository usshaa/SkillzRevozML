{
 "cells": [
  {
   "cell_type": "markdown",
   "metadata": {},
   "source": [
    "### K-Nearest Neighbors (KNN) Regression Algorithm\n",
    "\n",
    "The K-Nearest Neighbors (KNN) regression algorithm is a type of instance-based learning or non-generalizing learning: it does not explicitly learn a model but instead memorizes the training instances which it uses to predict the outcome for new instances. This method is simple, intuitive, and effective for various types of regression problems.\n",
    "\n",
    "### How KNN Regression Works\n",
    "\n",
    "1. **Selecting the Number of Neighbors (k)**: Choose the number of nearest neighbors, typically an odd number to avoid ties in classification but any positive integer for regression.\n",
    "2. **Calculating Distance**: Calculate the distance between the new data point and all the training data points. Common distance metrics include Euclidean, Manhattan, or Minkowski distance.\n",
    "3. **Identifying Neighbors**: Select the k closest training data points.\n",
    "4. **Predicting the Output**: For regression, the output is typically the average (mean) of the outputs of the k nearest neighbors.\n",
    "\n",
    "### Detailed Steps with Example\n",
    "\n",
    "Let's go through an example relevant to the public and government sector. Suppose we want to predict the annual spending on public infrastructure (in millions of dollars) by various states based on features such as population size, GDP, and area.\n",
    "\n",
    "#### Example Data\n",
    "\n",
    "| State       | Population (millions) | GDP (billions USD) | Area (thousand km²) | Spending (million USD) |\n",
    "|-------------|------------------------|---------------------|----------------------|-------------------------|\n",
    "| State A     | 10                     | 300                 | 50                   | 1000                    |\n",
    "| State B     | 20                     | 500                 | 70                   | 2000                    |\n",
    "| State C     | 15                     | 400                 | 60                   | 1500                    |\n",
    "| State D     | 30                     | 600                 | 80                   | 2500                    |\n",
    "| State E     | 25                     | 550                 | 75                   | 2200                    |\n",
    "\n",
    "We want to predict the spending for a new state with the following features: Population = 18 million, GDP = 450 billion USD, Area = 65 thousand km².\n",
    "\n",
    "#### Step-by-Step Process\n",
    "\n",
    "1. **Determine k**: Let's choose k=3 for this example.\n",
    "\n",
    "2. **Calculate Distance**: Use different distance metrics to calculate the distance between the new state and each of the training states.\n",
    "\n",
    "### Euclidean Distance\n",
    "\n",
    "   Euclidean Distance Formula:\n",
    "   \\$\n",
    "   d = \\sqrt{(x_1 - x_2)^2 + (y_1 - y_2)^2 + (z_1 - z_2)^2}\n",
    "   \\$\n",
    "\n",
    "   Where \\(x\\), \\(y\\), and \\(z\\) are the features (Population, GDP, Area).\n",
    "\n",
    "   **Distance to State A**:\n",
    "   \\$\n",
    "   d_A = \\sqrt{(18 - 10)^2 + (450 - 300)^2 + (65 - 50)^2} = \\sqrt{8^2 + 150^2 + 15^2} = \\sqrt{64 + 22500 + 225} = \\sqrt{22789} \\approx 150.96\n",
    "   \\$\n",
    "\n",
    "   **Distance to State B**:\n",
    "   \\$\n",
    "   d_B = \\sqrt{(18 - 20)^2 + (450 - 500)^2 + (65 - 70)^2} = \\sqrt{2^2 + 50^2 + 5^2} = \\sqrt{4 + 2500 + 25} = \\sqrt{2529} \\approx 50.29\n",
    "   \\$\n",
    "\n",
    "   **Distance to State C**:\n",
    "   \\$\n",
    "   d_C = \\sqrt{(18 - 15)^2 + (450 - 400)^2 + (65 - 60)^2} = \\sqrt{3^2 + 50^2 + 5^2} = \\sqrt{9 + 2500 + 25} = \\sqrt{2534} \\approx 50.34\n",
    "   \\$\n",
    "\n",
    "   **Distance to State D**:\n",
    "   \\$\n",
    "   d_D = \\sqrt{(18 - 30)^2 + (450 - 600)^2 + (65 - 80)^2} = \\sqrt{12^2 + 150^2 + 15^2} = \\sqrt{144 + 22500 + 225} = \\sqrt{22869} \\approx 151.23\n",
    "   \\$\n",
    "\n",
    "   **Distance to State E**:\n",
    "   \\$\n",
    "   d_E = \\sqrt{(18 - 25)^2 + (450 - 550)^2 + (65 - 75)^2} = \\sqrt{7^2 + 100^2 + 10^2} = \\sqrt{49 + 10000 + 100} = \\sqrt{10149} \\approx 100.74\n",
    "   \\$\n",
    "\n",
    "3. **Identify the k Nearest Neighbors**: The three closest states are B, C, and E with distances 50.29, 50.34, and 100.74 respectively.\n",
    "\n",
    "4. **Predict the Output**: Calculate the average spending of the nearest neighbors.\n",
    "\n",
    "   \\$\n",
    "   \\text{Average Spending} = \\frac{2000 + 1500 + 2200}{3} = \\frac{5700}{3} = 1900 \\text{ million USD}\n",
    "   \\$\n",
    "\n",
    "So, the predicted annual spending on public infrastructure for the new state is **1900 million USD**.\n",
    "\n",
    "### Manhattan Distance\n",
    "\n",
    "   Manhattan Distance Formula:\n",
    "   \\$\n",
    "   d = |x_1 - x_2| + |y_1 - y_2| + |z_1 - z_2|\n",
    "   \\$\n",
    "\n",
    "   **Distance to State A**:\n",
    "   \\$\n",
    "   d_A = |18 - 10| + |450 - 300| + |65 - 50| = 8 + 150 + 15 = 173\n",
    "   \\$\n",
    "\n",
    "   **Distance to State B**:\n",
    "   \\$\n",
    "   d_B = |18 - 20| + |450 - 500| + |65 - 70| = 2 + 50 + 5 = 57\n",
    "   \\$\n",
    "\n",
    "   **Distance to State C**:\n",
    "   \\$\n",
    "   d_C = |18 - 15| + |450 - 400| + |65 - 60| = 3 + 50 + 5 = 58\n",
    "   \\$\n",
    "\n",
    "   **Distance to State D**:\n",
    "   \\$\n",
    "   d_D = |18 - 30| + |450 - 600| + |65 - 80| = 12 + 150 + 15 = 177\n",
    "   \\$\n",
    "\n",
    "   **Distance to State E**:\n",
    "   \\$\n",
    "   d_E = |18 - 25| + |450 - 550| + |65 - 75| = 7 + 100 + 10 = 117\n",
    "   \\$\n",
    "\n",
    "### Minkowski Distance\n",
    "\n",
    "   Minkowski Distance Formula:\n",
    "   \\$\n",
    "   d = \\left( |x_1 - x_2|^p + |y_1 - y_2|^p + |z_1 - z_2|^p \\right)^{1/p}\n",
    "   \\$\n",
    "\n",
    "   For \\(p = 3\\),\n",
    "\n",
    "   **Distance to State A**:\n",
    "   \\$\n",
    "   d_A = \\left( |18 - 10|^3 + |450 - 300|^3 + |65 - 50|^3 \\right)^{1/3} = \\left( 8^3 + 150^3 + 15^3 \\right)^{1/3} = \\left( 512 + 3375000 + 3375 \\right)^{1/3} \\approx 147.29\n",
    "   \\$\n",
    "\n",
    "   **Distance to State B**:\n",
    "   \\$\n",
    "   d_B = \\left( |18 - 20|^3 + |450 - 500|^3 + |65 - 70|^3 \\right)^{1/3} = \\left( 2^3 + 50^3 + 5^3 \\right)^{1/3} = \\left( 8 + 125000 + 125 \\right)^{1/3} \\approx 50.44\n",
    "   \\$\n",
    "\n",
    "   **Distance to State C**:\n",
    "   \\$\n",
    "   d_C = \\left( |18 - 15|^3 + |450 - 400|^3 + |65 - 60|^3 \\right)^{1/3} = \\left( 3^3 + 50^3 + 5^3 \\right)^{1/3} = \\left( 27 + 125000 + 125 \\right)^{1/3} \\approx 50.45\n",
    "   \\$\n",
    "\n",
    "   **Distance to State D**:\n",
    "   \\$\n",
    "   d_D = \\left( |18 - 30|^3 + |450 - 600|^3 + |65 - 80|^3 \\right)^{1/3} = \\left( 12^3 + 150^3 + 15^3 \\right)^{1/3} = \\left( 1728 + 3375000 + 3375 \\right)^{1/3} \\approx 147.75\n",
    "   \\$\n",
    "\n",
    "   **Distance to State E**:\n",
    "   \\$\n",
    "   d_E = \\left( |18 - 25|^3 + |450 - 550|^3 + |65 - 75|^3 \\right)^{1/3} = \\left( 7^3 + 100^3 + 10^3 \\right)^{1/3} = \\left( 343 + 1000000 + 1000 \\right)^{1/3} \\approx 100.79\n",
    "   \\$\n",
    "\n",
    "3. **Identify the k Nearest Neighbors**: The three closest states are B, C, and E.\n",
    "\n",
    "4. **Predict the Output**: The prediction remains the same as we use the same nearest neighbors:\n",
    "\n",
    "   \\$\n",
    "   \\text{Average Spending} = \\frac{2000 + 1500 + 2200}{3} = \\frac{5700}{3} = 1900 \\text{ million USD}\n",
    "   \\$\n",
    "\n",
    "So, the predicted annual spending on public infrastructure for the new state is **1900 million USD**.\n",
    "\n",
    "### Applications in the Public and Government Sector\n",
    "\n",
    "1. **Public Health**: Predicting disease outbreak levels in different regions based on past data such as population density, vaccination rates, and healthcare facilities.\n",
    "2. **Crime Rate Prediction**: Estimating future crime rates based on historical data, demographic information, and socioeconomic factors.\n",
    "3. **Economic Policy Making**: Forecasting economic indicators like unemployment rates or GDP growth using historical data and various economic parameters.\n",
    "4. **Resource Allocation**: Predicting the need for public services (e.g., number of schools or hospitals) in different areas based on population growth, migration trends, and other factors.\n",
    "\n",
    "KNN regression is particularly useful in these scenarios due to its simplicity and effectiveness, especially when dealing with small datasets or when the relationship between the features and the target variable is not necessarily linear."
   ]
  },
  {
   "cell_type": "markdown",
   "metadata": {},
   "source": [
    "1. **Load the Data**: We create a DataFrame with the provided data."
   ]
  },
  {
   "cell_type": "code",
   "execution_count": 1,
   "metadata": {},
   "outputs": [],
   "source": [
    "import numpy as np\n",
    "import pandas as pd\n",
    "import matplotlib.pyplot as plt\n",
    "import seaborn as sns\n",
    "from sklearn.preprocessing import StandardScaler\n",
    "from sklearn.neighbors import KNeighborsRegressor\n",
    "\n",
    "# Step 1: Load the data\n",
    "data = {\n",
    "    'State': ['State A', 'State B', 'State C', 'State D', 'State E'],\n",
    "    'Population': [10, 20, 15, 30, 25],\n",
    "    'GDP': [300, 500, 400, 600, 550],\n",
    "    'Area': [50, 70, 60, 80, 75],\n",
    "    'Spending': [1000, 2000, 1500, 2500, 2200]\n",
    "}\n",
    "df = pd.DataFrame(data)\n",
    "\n",
    "# Features and target variable\n",
    "X = df[['Population', 'GDP', 'Area']]\n",
    "y = df['Spending']"
   ]
  },
  {
   "cell_type": "markdown",
   "metadata": {},
   "source": [
    "2. **Standardize the Features**: We use `StandardScaler` from `scikit-learn` to standardize the features. This ensures that all features contribute equally to the distance calculations."
   ]
  },
  {
   "cell_type": "code",
   "execution_count": 2,
   "metadata": {},
   "outputs": [
    {
     "name": "stderr",
     "output_type": "stream",
     "text": [
      "/opt/conda/lib/python3.7/site-packages/sklearn/base.py:451: UserWarning: X does not have valid feature names, but StandardScaler was fitted with feature names\n",
      "  \"X does not have valid feature names, but\"\n"
     ]
    }
   ],
   "source": [
    "# Step 2: Standardize the features\n",
    "scaler = StandardScaler()\n",
    "X_scaled = scaler.fit_transform(X)\n",
    "\n",
    "# New state data\n",
    "new_state = np.array([[18, 450, 65]])\n",
    "new_state_scaled = scaler.transform(new_state)"
   ]
  },
  {
   "cell_type": "markdown",
   "metadata": {},
   "source": [
    "3. **Implement KNN Regression**: We create a `KNeighborsRegressor` model with `k=3` and fit it using the standardized training data."
   ]
  },
  {
   "cell_type": "code",
   "execution_count": 3,
   "metadata": {},
   "outputs": [
    {
     "data": {
      "text/plain": [
       "KNeighborsRegressor(n_neighbors=3)"
      ]
     },
     "execution_count": 3,
     "metadata": {},
     "output_type": "execute_result"
    }
   ],
   "source": [
    "# Step 3: Implement KNN regression\n",
    "k = 3\n",
    "knn = KNeighborsRegressor(n_neighbors=k)\n",
    "knn.fit(X_scaled, y)"
   ]
  },
  {
   "cell_type": "markdown",
   "metadata": {},
   "source": [
    "4. **Make Predictions**: We transform the new state data using the same scaler and then predict the spending using the trained KNN regressor."
   ]
  },
  {
   "cell_type": "code",
   "execution_count": 4,
   "metadata": {},
   "outputs": [
    {
     "name": "stdout",
     "output_type": "stream",
     "text": [
      "Predicted annual spending on public infrastructure: 1900.00 million USD\n"
     ]
    }
   ],
   "source": [
    "# Step 4: Make predictions\n",
    "predicted_spending = knn.predict(new_state_scaled)\n",
    "print(f'Predicted annual spending on public infrastructure: {predicted_spending[0]:.2f} million USD')"
   ]
  },
  {
   "cell_type": "code",
   "execution_count": 5,
   "metadata": {},
   "outputs": [],
   "source": [
    "# Identify the k nearest neighbors\n",
    "distances, indices = knn.kneighbors(new_state_scaled)"
   ]
  },
  {
   "cell_type": "code",
   "execution_count": 15,
   "metadata": {},
   "outputs": [
    {
     "data": {
      "image/png": "[encoded data removed]",
      "text/plain": [
       "<Figure size 720x432 with 1 Axes>"
      ]
     },
     "metadata": {
      "needs_background": "light"
     },
     "output_type": "display_data"
    }
   ],
   "source": [
    "# Step 5: Visualization\n",
    "plt.figure(figsize=(10, 6))\n",
    "\n",
    "# Plot the training data points\n",
    "plt.scatter(df['Population'], df['GDP'], c='blue', label='Training data', s=100)\n",
    "for i in range(len(df)):\n",
    "    plt.text(df['Population'][i], df['GDP'][i], f'{df[\"Spending\"][i]}', fontsize=9, ha='right')\n",
    "\n",
    "# Plot the new data point\n",
    "plt.scatter(new_state[0, 0], new_state[0, 1], c='green', label='New State', s=100, edgecolors='black')\n",
    "plt.text(new_state[0, 0], new_state[0, 1], f'{predicted_spending[0]:.2f}', fontsize=9, ha='right')\n",
    "\n",
    "# Plot lines to the k nearest neighbors\n",
    "for i in indices[0]:\n",
    "    plt.plot([new_state[0, 0], X.iloc[i, 0]], [new_state[0, 1], X.iloc[i, 1]], 'k--')\n",
    "    plt.text(X.iloc[i, 0], X.iloc[i, 1], f'{y.iloc[i]}', fontsize=9, ha='right')\n",
    "\n",
    "plt.xlabel('Population (millions)')\n",
    "plt.ylabel('GDP (billions USD)')\n",
    "plt.legend()\n",
    "plt.title('K-Nearest Neighbors Regression')\n",
    "plt.grid(True)\n",
    "plt.show()"
   ]
  },
  {
   "cell_type": "code",
   "execution_count": null,
   "metadata": {},
   "outputs": [],
   "source": []
  }
 ],
 "metadata": {
  "kernelspec": {
   "display_name": "Python 3",
   "language": "python",
   "name": "python3"
  },
  "language_info": {
   "codemirror_mode": {
    "name": "ipython",
    "version": 3
   },
   "file_extension": ".py",
   "mimetype": "text/x-python",
   "name": "python",
   "nbconvert_exporter": "python",
   "pygments_lexer": "ipython3",
   "version": "3.7.4"
  }
 },
 "nbformat": 4,
 "nbformat_minor": 4
}
