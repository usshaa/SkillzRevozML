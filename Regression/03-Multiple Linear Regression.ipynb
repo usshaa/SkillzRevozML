{
 "cells": [
  {
   "cell_type": "code",
   "execution_count": 2,
   "metadata": {},
   "outputs": [],
   "source": [
    "import pandas as pd\n",
    "import numpy as np\n",
    "import matplotlib.pyplot as plt\n",
    "from sklearn.model_selection import train_test_split\n",
    "from sklearn.linear_model import LinearRegression\n",
    "from sklearn.metrics import mean_squared_error, r2_score"
   ]
  },
  {
   "cell_type": "code",
   "execution_count": 3,
   "metadata": {},
   "outputs": [],
   "source": [
    "# Display settings for better visualization\n",
    "pd.set_option('display.max_columns', None)\n",
    "pd.set_option('display.width', 1000)"
   ]
  },
  {
   "cell_type": "code",
   "execution_count": 5,
   "metadata": {},
   "outputs": [],
   "source": [
    "# Sample data as a dictionary for demonstration purposes\n",
    "data = {\n",
    "    'GDP_per_capita': [5000, 10000, 15000, 20000, 25000, 30000, 35000, 40000, 45000, 50000],\n",
    "    'Health_expenditure': [200, 300, 400, 500, 600, 700, 800, 900, 1000, 1100],\n",
    "    'Education_index': [0.6, 0.7, 0.8, 0.85, 0.9, 0.92, 0.94, 0.95, 0.96, 0.97],\n",
    "    'Life_expectancy': [65, 70, 75, 78, 80, 82, 83, 84, 85, 86]\n",
    "}"
   ]
  },
  {
   "cell_type": "code",
   "execution_count": 6,
   "metadata": {},
   "outputs": [
    {
     "data": {
      "text/html": [
       "<div>\n",
       "<style scoped>\n",
       "    .dataframe tbody tr th:only-of-type {\n",
       "        vertical-align: middle;\n",
       "    }\n",
       "\n",
       "    .dataframe tbody tr th {\n",
       "        vertical-align: top;\n",
       "    }\n",
       "\n",
       "    .dataframe thead th {\n",
       "        text-align: right;\n",
       "    }\n",
       "</style>\n",
       "<table border=\"1\" class=\"dataframe\">\n",
       "  <thead>\n",
       "    <tr style=\"text-align: right;\">\n",
       "      <th></th>\n",
       "      <th>GDP_per_capita</th>\n",
       "      <th>Health_expenditure</th>\n",
       "      <th>Education_index</th>\n",
       "      <th>Life_expectancy</th>\n",
       "    </tr>\n",
       "  </thead>\n",
       "  <tbody>\n",
       "    <tr>\n",
       "      <th>0</th>\n",
       "      <td>5000</td>\n",
       "      <td>200</td>\n",
       "      <td>0.60</td>\n",
       "      <td>65</td>\n",
       "    </tr>\n",
       "    <tr>\n",
       "      <th>1</th>\n",
       "      <td>10000</td>\n",
       "      <td>300</td>\n",
       "      <td>0.70</td>\n",
       "      <td>70</td>\n",
       "    </tr>\n",
       "    <tr>\n",
       "      <th>2</th>\n",
       "      <td>15000</td>\n",
       "      <td>400</td>\n",
       "      <td>0.80</td>\n",
       "      <td>75</td>\n",
       "    </tr>\n",
       "    <tr>\n",
       "      <th>3</th>\n",
       "      <td>20000</td>\n",
       "      <td>500</td>\n",
       "      <td>0.85</td>\n",
       "      <td>78</td>\n",
       "    </tr>\n",
       "    <tr>\n",
       "      <th>4</th>\n",
       "      <td>25000</td>\n",
       "      <td>600</td>\n",
       "      <td>0.90</td>\n",
       "      <td>80</td>\n",
       "    </tr>\n",
       "    <tr>\n",
       "      <th>5</th>\n",
       "      <td>30000</td>\n",
       "      <td>700</td>\n",
       "      <td>0.92</td>\n",
       "      <td>82</td>\n",
       "    </tr>\n",
       "    <tr>\n",
       "      <th>6</th>\n",
       "      <td>35000</td>\n",
       "      <td>800</td>\n",
       "      <td>0.94</td>\n",
       "      <td>83</td>\n",
       "    </tr>\n",
       "    <tr>\n",
       "      <th>7</th>\n",
       "      <td>40000</td>\n",
       "      <td>900</td>\n",
       "      <td>0.95</td>\n",
       "      <td>84</td>\n",
       "    </tr>\n",
       "    <tr>\n",
       "      <th>8</th>\n",
       "      <td>45000</td>\n",
       "      <td>1000</td>\n",
       "      <td>0.96</td>\n",
       "      <td>85</td>\n",
       "    </tr>\n",
       "    <tr>\n",
       "      <th>9</th>\n",
       "      <td>50000</td>\n",
       "      <td>1100</td>\n",
       "      <td>0.97</td>\n",
       "      <td>86</td>\n",
       "    </tr>\n",
       "  </tbody>\n",
       "</table>\n",
       "</div>"
      ],
      "text/plain": [
       "   GDP_per_capita  Health_expenditure  Education_index  Life_expectancy\n",
       "0            5000                 200             0.60               65\n",
       "1           10000                 300             0.70               70\n",
       "2           15000                 400             0.80               75\n",
       "3           20000                 500             0.85               78\n",
       "4           25000                 600             0.90               80\n",
       "5           30000                 700             0.92               82\n",
       "6           35000                 800             0.94               83\n",
       "7           40000                 900             0.95               84\n",
       "8           45000                1000             0.96               85\n",
       "9           50000                1100             0.97               86"
      ]
     },
     "execution_count": 6,
     "metadata": {},
     "output_type": "execute_result"
    }
   ],
   "source": [
    "# Convert dictionary to DataFrame\n",
    "df = pd.DataFrame(data)\n",
    "df"
   ]
  },
  {
   "cell_type": "code",
   "execution_count": 7,
   "metadata": {},
   "outputs": [],
   "source": [
    "# Define independent variables (features) and the dependent variable (target)\n",
    "X = df[['GDP_per_capita', 'Health_expenditure', 'Education_index']]\n",
    "y = df['Life_expectancy']"
   ]
  },
  {
   "cell_type": "code",
   "execution_count": 8,
   "metadata": {},
   "outputs": [],
   "source": [
    "# Split the data into training and testing sets (80% train, 20% test)\n",
    "X_train, X_test, y_train, y_test = train_test_split(X, y, test_size=0.2, random_state=42)"
   ]
  },
  {
   "cell_type": "code",
   "execution_count": 9,
   "metadata": {},
   "outputs": [
    {
     "data": {
      "text/plain": [
       "LinearRegression()"
      ]
     },
     "execution_count": 9,
     "metadata": {},
     "output_type": "execute_result"
    }
   ],
   "source": [
    "# Create and train the linear regression model\n",
    "model = LinearRegression()\n",
    "model.fit(X_train, y_train)"
   ]
  },
  {
   "cell_type": "code",
   "execution_count": 10,
   "metadata": {},
   "outputs": [
    {
     "name": "stdout",
     "output_type": "stream",
     "text": [
      "Coefficients: [9.56689200e-05 1.91338329e-06 4.47345151e+01]\n",
      "Intercept: 37.74158726274427\n"
     ]
    }
   ],
   "source": [
    "# Print the coefficients\n",
    "print('Coefficients:', model.coef_)\n",
    "print('Intercept:', model.intercept_)"
   ]
  },
  {
   "cell_type": "code",
   "execution_count": 11,
   "metadata": {},
   "outputs": [],
   "source": [
    "# Make predictions using the testing set\n",
    "y_pred = model.predict(X_test)"
   ]
  },
  {
   "cell_type": "code",
   "execution_count": 12,
   "metadata": {},
   "outputs": [
    {
     "name": "stdout",
     "output_type": "stream",
     "text": [
      "Predicted values: [84.99373658 70.01301107]\n",
      "Actual values: [85 70]\n"
     ]
    }
   ],
   "source": [
    "# Print predictions\n",
    "print('Predicted values:', y_pred)\n",
    "print('Actual values:', y_test.values)"
   ]
  },
  {
   "cell_type": "code",
   "execution_count": 13,
   "metadata": {},
   "outputs": [],
   "source": [
    "# Calculate mean squared error and R^2 score\n",
    "mse = mean_squared_error(y_test, y_pred)\n",
    "r2 = r2_score(y_test, y_pred)"
   ]
  },
  {
   "cell_type": "code",
   "execution_count": 12,
   "metadata": {},
   "outputs": [
    {
     "name": "stdout",
     "output_type": "stream",
     "text": [
      "Mean Squared Error: 0.0001042592488509665\n",
      "R^2 Score: 0.9999981465022426\n"
     ]
    }
   ],
   "source": [
    "print('Mean Squared Error:', mse)\n",
    "print('R^2 Score:', r2)"
   ]
  },
  {
   "cell_type": "code",
   "execution_count": 16,
   "metadata": {},
   "outputs": [
    {
     "data": {
      "image/png": "[encoded data removed]",
      "text/plain": [
       "<Figure size 432x288 with 1 Axes>"
      ]
     },
     "metadata": {
      "needs_background": "light"
     },
     "output_type": "display_data"
    }
   ],
   "source": [
    "# Visualize actual vs predicted life expectancy\n",
    "plt.scatter(y_test, y_pred)\n",
    "plt.xlabel('Actual Life Expectancy')\n",
    "plt.ylabel('Predicted Life Expectancy')\n",
    "plt.title('Actual vs Predicted Life Expectancy')\n",
    "plt.plot([min(y_test), max(y_test)], [min(y_test), max(y_test)], color='red')  # Line of perfect fit\n",
    "plt.show()"
   ]
  },
  {
   "cell_type": "code",
   "execution_count": 17,
   "metadata": {},
   "outputs": [],
   "source": [
    "# Creating a new sample for testing\n",
    "new_sample = {\n",
    "    'GDP_per_capita': [30000],\n",
    "    'Health_expenditure': [750],\n",
    "    'Education_index': [0.9]\n",
    "}\n",
    "\n",
    "new_sample_df = pd.DataFrame(new_sample)"
   ]
  },
  {
   "cell_type": "code",
   "execution_count": 15,
   "metadata": {},
   "outputs": [
    {
     "name": "stdout",
     "output_type": "stream",
     "text": [
      "New Sample Prediction:\n",
      "GDP per Capita: 30000, Health Expenditure: 750, Education Index: 0.9\n",
      "Predicted Life Expectancy: 80.87415352424406\n"
     ]
    }
   ],
   "source": [
    "# Predicting life expectancy for the new sample\n",
    "new_pred = model.predict(new_sample_df)\n",
    "\n",
    "print('New Sample Prediction:')\n",
    "print(f'GDP per Capita: {new_sample[\"GDP_per_capita\"][0]}, Health Expenditure: {new_sample[\"Health_expenditure\"][0]}, Education Index: {new_sample[\"Education_index\"][0]}')\n",
    "print(f'Predicted Life Expectancy: {new_pred[0]}')"
   ]
  },
  {
   "cell_type": "code",
   "execution_count": null,
   "metadata": {},
   "outputs": [],
   "source": []
  }
 ],
 "metadata": {
  "kernelspec": {
   "display_name": "Python 3",
   "language": "python",
   "name": "python3"
  },
  "language_info": {
   "codemirror_mode": {
    "name": "ipython",
    "version": 3
   },
   "file_extension": ".py",
   "mimetype": "text/x-python",
   "name": "python",
   "nbconvert_exporter": "python",
   "pygments_lexer": "ipython3",
   "version": "3.7.4"
  }
 },
 "nbformat": 4,
 "nbformat_minor": 4
}
