{
 "cells": [
  {
   "cell_type": "markdown",
   "metadata": {},
   "source": [
    "### Regularization\n",
    "\n",
    "Regularization is a technique used in machine learning to prevent overfitting by adding a penalty term to the model's loss function. Overfitting occurs when a model learns the noise in the training data rather than the actual underlying patterns. Regularization techniques help ensure that the model generalizes well to new, unseen data.\n",
    "\n",
    "There are two main types of regularization: **L1 (Lasso) regularization** and **L2 (Ridge) regularization**. \n",
    "\n",
    "#### L2 Regularization (Ridge Regression)\n",
    "L2 regularization adds a penalty equal to the sum of the squared coefficients to the loss function. It effectively shrinks the coefficients, but not to zero, which helps keep the model simple and prevents overfitting.\n",
    "\n",
    "The loss function for linear regression with L2 regularization (Ridge regression) is:\n",
    "\n",
    "\\$ J(\\theta) = \\sum_{i=1}^{m} (y_i - \\hat{y}_i)^2 + \\lambda \\sum_{j=1}^{n} \\theta_j^2 \\$\n",
    "\n",
    "where:\n",
    "- \\( y_i \\) is the actual output.\n",
    "- \\( \\hat{y}_i \\) is the predicted output.\n",
    "- \\( \\theta_j \\) are the model parameters (coefficients).\n",
    "- \\( \\lambda \\) is the regularization parameter, controlling the strength of the penalty.\n",
    "\n",
    "#### L1 Regularization (Lasso Regression)\n",
    "L1 regularization adds a penalty equal to the sum of the absolute values of the coefficients to the loss function. This can result in some coefficients being exactly zero, effectively performing feature selection.\n",
    "\n",
    "The loss function for linear regression with L1 regularization (Lasso regression) is:\n",
    "\n",
    "\\$ J(\\theta) = \\sum_{i=1}^{m} (y_i - \\hat{y}_i)^2 + \\lambda \\sum_{j=1}^{n} |\\theta_j| \\$\n",
    "\n",
    "where:\n",
    "- The terms are the same as in L2 regularization, but the penalty is the sum of the absolute values of the coefficients.\n",
    "\n",
    "### Example\n",
    "\n",
    "Imagine you are trying to predict the price of a house based on its size and number of rooms. You have a dataset with features like size (in square feet), number of rooms, age of the house, distance to the nearest school, and so on.\n",
    "\n",
    "If you fit a linear regression model without regularization, it might produce a model that fits the training data very well but performs poorly on new data (overfitting). This happens because the model captures the noise in the training data.\n",
    "\n",
    "By adding a regularization term, we can penalize large coefficients and thus prevent the model from overfitting. \n",
    "\n",
    "For example:\n",
    "- **L2 regularization** will shrink all the coefficients, making the model more general but keeping all features in the model.\n",
    "- **L1 regularization** might set some coefficients to zero, effectively removing some features from the model, which can be particularly useful if you suspect that many features are irrelevant.\n",
    "\n",
    "### Practical Implementation\n",
    "\n",
    "Let's see how to implement Ridge and Lasso regression using Python and scikit-learn.\n",
    "\n",
    "#### Step-by-Step Implementation"
   ]
  },
  {
   "cell_type": "markdown",
   "metadata": {},
   "source": [
    "1. **Import Necessary Libraries:**"
   ]
  },
  {
   "cell_type": "code",
   "execution_count": 2,
   "metadata": {},
   "outputs": [],
   "source": [
    "import numpy as np\n",
    "import pandas as pd\n",
    "from sklearn.model_selection import train_test_split\n",
    "from sklearn.linear_model import LinearRegression,Ridge, Lasso\n",
    "from sklearn.metrics import mean_squared_error, r2_score\n",
    "import matplotlib.pyplot as plt"
   ]
  },
  {
   "cell_type": "markdown",
   "metadata": {},
   "source": [
    "2. **Load Dataset:**\n",
    "\n",
    "For simplicity, we will use a synthetic dataset."
   ]
  },
  {
   "cell_type": "code",
   "execution_count": 3,
   "metadata": {},
   "outputs": [],
   "source": [
    "# Generating a synthetic dataset\n",
    "np.random.seed(0)\n",
    "X = np.random.rand(100, 5)\n",
    "y = 3 * X[:, 0] + 2 * X[:, 1] + X[:, 2] + np.random.randn(100)"
   ]
  },
  {
   "cell_type": "code",
   "execution_count": 4,
   "metadata": {},
   "outputs": [],
   "source": [
    "# Splitting the dataset into training and testing sets\n",
    "X_train, X_test, y_train, y_test = train_test_split(X, y, test_size=0.2, random_state=0)"
   ]
  },
  {
   "cell_type": "code",
   "execution_count": 5,
   "metadata": {},
   "outputs": [
    {
     "data": {
      "text/plain": [
       "LinearRegression()"
      ]
     },
     "execution_count": 5,
     "metadata": {},
     "output_type": "execute_result"
    }
   ],
   "source": [
    "linreg = LinearRegression()\n",
    "linreg.fit(X_train,y_train)"
   ]
  },
  {
   "cell_type": "code",
   "execution_count": 6,
   "metadata": {},
   "outputs": [],
   "source": [
    "y_pred = linreg.predict(X_test)"
   ]
  },
  {
   "cell_type": "code",
   "execution_count": 7,
   "metadata": {},
   "outputs": [],
   "source": [
    "mse = mean_squared_error(y_test, y_pred)\n",
    "rsquare = r2_score(y_test, y_pred)"
   ]
  },
  {
   "cell_type": "code",
   "execution_count": 8,
   "metadata": {},
   "outputs": [
    {
     "data": {
      "text/plain": [
       "1.1606612801877252"
      ]
     },
     "execution_count": 8,
     "metadata": {},
     "output_type": "execute_result"
    }
   ],
   "source": [
    "mse"
   ]
  },
  {
   "cell_type": "code",
   "execution_count": 9,
   "metadata": {},
   "outputs": [
    {
     "data": {
      "text/plain": [
       "0.2467718219159395"
      ]
     },
     "execution_count": 9,
     "metadata": {},
     "output_type": "execute_result"
    }
   ],
   "source": [
    "rsquare"
   ]
  },
  {
   "cell_type": "markdown",
   "metadata": {},
   "source": [
    "3. **Ridge Regression:**"
   ]
  },
  {
   "cell_type": "code",
   "execution_count": 10,
   "metadata": {},
   "outputs": [
    {
     "data": {
      "text/plain": [
       "Ridge()"
      ]
     },
     "execution_count": 10,
     "metadata": {},
     "output_type": "execute_result"
    }
   ],
   "source": [
    "# Initializing and training the Ridge Regression model\n",
    "ridge_reg = Ridge(alpha=1.0)\n",
    "ridge_reg.fit(X_train, y_train)"
   ]
  },
  {
   "cell_type": "code",
   "execution_count": 11,
   "metadata": {},
   "outputs": [],
   "source": [
    "# Making predictions and evaluating the model\n",
    "y_pred_ridge = ridge_reg.predict(X_test)\n",
    "ridge_mse = mean_squared_error(y_test, y_pred_ridge)"
   ]
  },
  {
   "cell_type": "code",
   "execution_count": 12,
   "metadata": {},
   "outputs": [
    {
     "data": {
      "text/plain": [
       "array([2.56370157, 2.09694944, 3.77370987, 5.31898641, 3.36603659,\n",
       "       1.62514315, 1.56479329, 2.96307536, 4.43180364, 4.61511697,\n",
       "       3.56135034, 1.90345526, 1.22432751, 2.39888184, 3.54393298,\n",
       "       2.07485458, 3.77781029, 4.27494036, 2.76461461, 2.91908463])"
      ]
     },
     "execution_count": 12,
     "metadata": {},
     "output_type": "execute_result"
    }
   ],
   "source": [
    "y_pred_ridge"
   ]
  },
  {
   "cell_type": "code",
   "execution_count": 13,
   "metadata": {},
   "outputs": [
    {
     "name": "stdout",
     "output_type": "stream",
     "text": [
      "Ridge Regression MSE: 1.0538553433914253\n"
     ]
    },
    {
     "data": {
      "text/plain": [
       "0.31608510267656453"
      ]
     },
     "execution_count": 13,
     "metadata": {},
     "output_type": "execute_result"
    }
   ],
   "source": [
    "print(f'Ridge Regression MSE: {ridge_mse}')\n",
    "r2_score(y_test, y_pred_ridge)"
   ]
  },
  {
   "cell_type": "code",
   "execution_count": 17,
   "metadata": {},
   "outputs": [],
   "source": [
    "ridgemse = mean_squared_error(y_test, y_pred_ridge)\n",
    "ridgersquare = r2_score(y_test, y_pred_ridge)"
   ]
  },
  {
   "cell_type": "code",
   "execution_count": 18,
   "metadata": {},
   "outputs": [
    {
     "data": {
      "text/plain": [
       "1.0538553433914253"
      ]
     },
     "execution_count": 18,
     "metadata": {},
     "output_type": "execute_result"
    }
   ],
   "source": [
    "ridgemse"
   ]
  },
  {
   "cell_type": "code",
   "execution_count": 19,
   "metadata": {},
   "outputs": [
    {
     "data": {
      "text/plain": [
       "0.31608510267656453"
      ]
     },
     "execution_count": 19,
     "metadata": {},
     "output_type": "execute_result"
    }
   ],
   "source": [
    "ridgersquare"
   ]
  },
  {
   "cell_type": "markdown",
   "metadata": {},
   "source": [
    "4. **Lasso Regression:**"
   ]
  },
  {
   "cell_type": "code",
   "execution_count": 20,
   "metadata": {},
   "outputs": [
    {
     "data": {
      "text/plain": [
       "Lasso(alpha=0.1)"
      ]
     },
     "execution_count": 20,
     "metadata": {},
     "output_type": "execute_result"
    }
   ],
   "source": [
    "# Initializing and training the Lasso Regression model\n",
    "lasso_reg = Lasso(alpha=0.1)\n",
    "lasso_reg.fit(X_train, y_train)"
   ]
  },
  {
   "cell_type": "code",
   "execution_count": 21,
   "metadata": {},
   "outputs": [],
   "source": [
    "# Making predictions and evaluating the model\n",
    "y_pred_lasso = lasso_reg.predict(X_test)\n",
    "lasso_mse = mean_squared_error(y_test, y_pred_lasso)"
   ]
  },
  {
   "cell_type": "code",
   "execution_count": 22,
   "metadata": {},
   "outputs": [
    {
     "data": {
      "text/plain": [
       "array([2.72081177, 2.30158885, 3.4720813 , 4.21943849, 2.86981974,\n",
       "       2.09229585, 2.11775355, 2.85991928, 3.82333682, 3.86011776,\n",
       "       3.31734051, 2.28634909, 1.84266253, 2.49846648, 3.260324  ,\n",
       "       2.19794382, 3.18174608, 3.67683696, 3.06998138, 2.76131399])"
      ]
     },
     "execution_count": 22,
     "metadata": {},
     "output_type": "execute_result"
    }
   ],
   "source": [
    "y_pred_lasso"
   ]
  },
  {
   "cell_type": "code",
   "execution_count": 23,
   "metadata": {},
   "outputs": [
    {
     "name": "stdout",
     "output_type": "stream",
     "text": [
      "Lasso Regression MSE: 0.9245734960398109\n"
     ]
    }
   ],
   "source": [
    "print(f'Lasso Regression MSE: {lasso_mse}')"
   ]
  },
  {
   "cell_type": "code",
   "execution_count": 24,
   "metadata": {},
   "outputs": [
    {
     "data": {
      "text/plain": [
       "0.3999844555732581"
      ]
     },
     "execution_count": 24,
     "metadata": {},
     "output_type": "execute_result"
    }
   ],
   "source": [
    "r2_score(y_test, y_pred_lasso)"
   ]
  },
  {
   "cell_type": "markdown",
   "metadata": {},
   "source": [
    "5. **Comparing Results:**"
   ]
  },
  {
   "cell_type": "code",
   "execution_count": 41,
   "metadata": {},
   "outputs": [
    {
     "name": "stdout",
     "output_type": "stream",
     "text": [
      "LinearRegression coefficients: [ 2.96448164  1.94812823  1.88548577 -0.29710184 -0.02035154]\n",
      "Ridge coefficients: [ 2.56109426  1.66845102  1.69399913 -0.21684251 -0.00264624]\n",
      "Lasso coefficients: [ 1.77041734  0.64413134  0.87670472 -0.          0.        ]\n"
     ]
    }
   ],
   "source": [
    "# Printing coefficients\n",
    "print(\"LinearRegression coefficients:\", linreg.coef_)\n",
    "print(\"Ridge coefficients:\", ridge_reg.coef_)\n",
    "print(\"Lasso coefficients:\", lasso_reg.coef_)"
   ]
  },
  {
   "cell_type": "code",
   "execution_count": 25,
   "metadata": {},
   "outputs": [
    {
     "data": {
      "image/png": "[encoded data removed]",
      "text/plain": [
       "<Figure size 720x360 with 1 Axes>"
      ]
     },
     "metadata": {
      "needs_background": "light"
     },
     "output_type": "display_data"
    }
   ],
   "source": [
    "# Plotting the coefficients\n",
    "plt.figure(figsize=(10, 5))\n",
    "plt.plot(linreg.coef_, 'o', label=\"Linear\")\n",
    "plt.plot(ridge_reg.coef_, 's', label=\"Ridge\")\n",
    "plt.plot(lasso_reg.coef_, '^', label=\"Lasso\")\n",
    "plt.xlabel(\"Coefficient index\")\n",
    "plt.ylabel(\"Coefficient magnitude\")\n",
    "plt.legend()\n",
    "plt.show()"
   ]
  },
  {
   "cell_type": "markdown",
   "metadata": {},
   "source": [
    "### Summary\n",
    "\n",
    "Regularization helps in reducing overfitting by adding a penalty to the loss function, which discourages the model from fitting the noise in the training data. L2 (Ridge) regularization shrinks coefficients uniformly, while L1 (Lasso) regularization can shrink some coefficients to zero, thus performing feature selection. Implementing regularization in Python using scikit-learn is straightforward, and it can significantly improve the generalization performance of your models."
   ]
  },
  {
   "cell_type": "code",
   "execution_count": null,
   "metadata": {},
   "outputs": [],
   "source": []
  }
 ],
 "metadata": {
  "kernelspec": {
   "display_name": "Python 3",
   "language": "python",
   "name": "python3"
  },
  "language_info": {
   "codemirror_mode": {
    "name": "ipython",
    "version": 3
   },
   "file_extension": ".py",
   "mimetype": "text/x-python",
   "name": "python",
   "nbconvert_exporter": "python",
   "pygments_lexer": "ipython3",
   "version": "3.7.4"
  }
 },
 "nbformat": 4,
 "nbformat_minor": 4
}
