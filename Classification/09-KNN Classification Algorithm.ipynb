{
 "cells": [
  {
   "cell_type": "markdown",
   "metadata": {},
   "source": [
    "### K-Nearest Neighbors (KNN) Classification Algorithm\n",
    "\n",
    "The K-Nearest Neighbors (KNN) classification algorithm is an instance-based learning method that classifies a new data point based on the majority class of its k nearest neighbors. It’s simple, intuitive, and effective for various types of classification problems.\n",
    "\n",
    "### How KNN Classification Works\n",
    "\n",
    "1. **Selecting the Number of Neighbors (k)**: Choose the number of nearest neighbors, typically an odd number to avoid ties in classification.\n",
    "2. **Calculating Distance**: Calculate the distance between the new data point and all the training data points. Common distance metrics include Euclidean, Manhattan, or Minkowski distance.\n",
    "3. **Identifying Neighbors**: Select the k closest training data points.\n",
    "4. **Predicting the Output**: The new data point is assigned the class that is most common among its k nearest neighbors.\n",
    "\n",
    "### Detailed Steps with Example\n",
    "\n",
    "Let's go through an example relevant to the public and government sector. Suppose we want to classify whether states are \"High Spending\" or \"Low Spending\" on public infrastructure based on features such as population size, GDP, and area.\n",
    "\n",
    "#### Example Data\n",
    "\n",
    "| State       | Population (millions) | GDP (billions USD) | Area (thousand km²) | Spending (Category) |\n",
    "|-------------|------------------------|---------------------|----------------------|----------------------|\n",
    "| State A     | 10                     | 300                 | 50                   | Low                  |\n",
    "| State B     | 20                     | 500                 | 70                   | High                 |\n",
    "| State C     | 15                     | 400                 | 60                   | Low                  |\n",
    "| State D     | 30                     | 600                 | 80                   | High                 |\n",
    "| State E     | 25                     | 550                 | 75                   | High                 |\n",
    "\n",
    "We want to classify a new state with the following features: Population = 18 million, GDP = 450 billion USD, Area = 65 thousand km².\n",
    "\n",
    "#### Step-by-Step Process\n",
    "\n",
    "1. **Determine k**: Let's choose k=3 for this example.\n",
    "\n",
    "2. **Calculate Distance**: Use Euclidean distance to calculate the distance between the new state and each of the training states.\n",
    "\n",
    "   Euclidean Distance Formula:\n",
    "   \\$\n",
    "   d = \\sqrt{(x_1 - x_2)^2 + (y_1 - y_2)^2 + (z_1 - z_2)^2}\n",
    "   \\$\n",
    "\n",
    "   Where \\(x\\), \\(y\\), and \\(z\\) are the features (Population, GDP, Area).\n",
    "\n",
    "   **Distance to State A**:\n",
    "   \\$\n",
    "   d_A = \\sqrt{(18 - 10)^2 + (450 - 300)^2 + (65 - 50)^2} = \\sqrt{8^2 + 150^2 + 15^2} = \\sqrt{64 + 22500 + 225} = \\sqrt{22789} \\approx 150.96\n",
    "   \\$\n",
    "\n",
    "   **Distance to State B**:\n",
    "   \\$\n",
    "   d_B = \\sqrt{(18 - 20)^2 + (450 - 500)^2 + (65 - 70)^2} = \\sqrt{2^2 + 50^2 + 5^2} = \\sqrt{4 + 2500 + 25} = \\sqrt{2529} \\approx 50.29\n",
    "   \\$\n",
    "\n",
    "   **Distance to State C**:\n",
    "   \\$\n",
    "   d_C = \\sqrt{(18 - 15)^2 + (450 - 400)^2 + (65 - 60)^2} = \\sqrt{3^2 + 50^2 + 5^2} = \\sqrt{9 + 2500 + 25} = \\sqrt{2534} \\approx 50.34\n",
    "   \\$\n",
    "\n",
    "   **Distance to State D**:\n",
    "   \\$\n",
    "   d_D = \\sqrt{(18 - 30)^2 + (450 - 600)^2 + (65 - 80)^2} = \\sqrt{12^2 + 150^2 + 15^2} = \\sqrt{144 + 22500 + 225} = \\sqrt{22869} \\approx 151.23\n",
    "   \\$\n",
    "\n",
    "   **Distance to State E**:\n",
    "   \\$\n",
    "   d_E = \\sqrt{(18 - 25)^2 + (450 - 550)^2 + (65 - 75)^2} = \\sqrt{7^2 + 100^2 + 10^2} = \\sqrt{49 + 10000 + 100} = \\sqrt{10149} \\approx 100.74\n",
    "   \\$\n",
    "\n",
    "3. **Identify the k Nearest Neighbors**: The three closest states are B, C, and E with distances 50.29, 50.34, and 100.74 respectively.\n",
    "\n",
    "4. **Predict the Output**: The new state is classified based on the majority class of its nearest neighbors. Here, State B (High), State C (Low), and State E (High). So, the majority class is High.\n",
    "\n",
    "Therefore, the new state is classified as **High Spending**.\n",
    "\n",
    "### Applications in the Public and Government Sector\n",
    "\n",
    "1. **Public Health**: Classifying regions as high or low risk for disease outbreaks based on past data.\n",
    "2. **Crime Rate Prediction**: Classifying areas into different crime rate categories based on historical data, demographic information, and socioeconomic factors.\n",
    "3. **Economic Policy Making**: Classifying regions into various economic zones based on historical data and various economic parameters.\n",
    "4. **Resource Allocation**: Classifying regions for resource allocation (e.g., number of schools or hospitals) based on population growth, migration trends, and other factors."
   ]
  },
  {
   "cell_type": "markdown",
   "metadata": {},
   "source": [
    "1. **Load the Data**: We create a DataFrame with the provided data."
   ]
  },
  {
   "cell_type": "code",
   "execution_count": 1,
   "metadata": {},
   "outputs": [],
   "source": [
    "import numpy as np\n",
    "import pandas as pd\n",
    "import matplotlib.pyplot as plt\n",
    "import seaborn as sns\n",
    "from sklearn.preprocessing import StandardScaler\n",
    "from sklearn.neighbors import KNeighborsClassifier\n",
    "\n",
    "# Step 1: Load the data\n",
    "data = {\n",
    "    'State': ['State A', 'State B', 'State C', 'State D', 'State E'],\n",
    "    'Population': [10, 20, 15, 30, 25],\n",
    "    'GDP': [300, 500, 400, 600, 550],\n",
    "    'Area': [50, 70, 60, 80, 75],\n",
    "    'Spending': ['Low', 'High', 'Low', 'High', 'High']\n",
    "}\n",
    "df = pd.DataFrame(data)\n",
    "\n",
    "# Features and target variable\n",
    "X = df[['Population', 'GDP', 'Area']]\n",
    "y = df['Spending']"
   ]
  },
  {
   "cell_type": "markdown",
   "metadata": {},
   "source": [
    "2. **Standardize the Features**: We use `StandardScaler` from `scikit-learn` to standardize the features. This ensures that all features contribute equally to the distance calculations."
   ]
  },
  {
   "cell_type": "code",
   "execution_count": 2,
   "metadata": {},
   "outputs": [
    {
     "name": "stderr",
     "output_type": "stream",
     "text": [
      "/opt/conda/lib/python3.7/site-packages/sklearn/base.py:451: UserWarning: X does not have valid feature names, but StandardScaler was fitted with feature names\n",
      "  \"X does not have valid feature names, but\"\n"
     ]
    }
   ],
   "source": [
    "# Step 2: Standardize the features\n",
    "scaler = StandardScaler()\n",
    "X_scaled = scaler.fit_transform(X)\n",
    "\n",
    "# New state data\n",
    "new_state = np.array([[18, 450, 65]])\n",
    "new_state_scaled = scaler.transform(new_state)"
   ]
  },
  {
   "cell_type": "markdown",
   "metadata": {},
   "source": [
    "3. **Implement KNN Classification**: We create a `KNeighborsClassifier` model with `k=3` and fit it using the standardized training data."
   ]
  },
  {
   "cell_type": "code",
   "execution_count": 3,
   "metadata": {},
   "outputs": [
    {
     "data": {
      "text/plain": [
       "KNeighborsClassifier(n_neighbors=3)"
      ]
     },
     "execution_count": 3,
     "metadata": {},
     "output_type": "execute_result"
    }
   ],
   "source": [
    "# Step 3: Implement KNN classification\n",
    "k = 3\n",
    "knn = KNeighborsClassifier(n_neighbors=k)\n",
    "knn.fit(X_scaled, y)"
   ]
  },
  {
   "cell_type": "markdown",
   "metadata": {},
   "source": [
    "4. **Make Predictions**: We transform the new state data using the same scaler and then predict the class using the trained KNN classifier."
   ]
  },
  {
   "cell_type": "code",
   "execution_count": 4,
   "metadata": {},
   "outputs": [
    {
     "name": "stdout",
     "output_type": "stream",
     "text": [
      "Predicted spending category for the new state: High\n"
     ]
    }
   ],
   "source": [
    "# Step 4: Make predictions\n",
    "predicted_class = knn.predict(new_state_scaled)\n",
    "print(f'Predicted spending category for the new state: {predicted_class[0]}')"
   ]
  },
  {
   "cell_type": "code",
   "execution_count": 5,
   "metadata": {},
   "outputs": [],
   "source": [
    "# Identify the k nearest neighbors\n",
    "distances, indices = knn.kneighbors(new_state_scaled)"
   ]
  },
  {
   "cell_type": "code",
   "execution_count": 6,
   "metadata": {},
   "outputs": [
    {
     "data": {
      "image/png": "[encoded data removed]",
      "text/plain": [
       "<Figure size 720x432 with 1 Axes>"
      ]
     },
     "metadata": {
      "needs_background": "light"
     },
     "output_type": "display_data"
    }
   ],
   "source": [
    "# Step 5: Visualization\n",
    "plt.figure(figsize=(10, 6))\n",
    "\n",
    "# Plot the training data points\n",
    "colors = {'Low': 'blue', 'High': 'red'}\n",
    "for category in colors:\n",
    "    subset = df[df['Spending'] == category]\n",
    "    plt.scatter(subset['Population'], subset['GDP'], c=colors[category], label=category, s=100)\n",
    "\n",
    "# Plot the new data point\n",
    "plt.scatter(new_state[0, 0], new_state[0, 1], c='green', label='New State', s=100, edgecolors='black')\n",
    "\n",
    "# Plot lines to the k nearest neighbors\n",
    "for i in indices[0]:\n",
    "    plt.plot([new_state[0, 0], X.iloc[i, 0]], [new_state[0, 1], X.iloc[i, 1]], 'k--')\n",
    "\n",
    "plt.xlabel('Population (millions)')\n",
    "plt.ylabel('GDP (billions USD)')\n",
    "plt.legend()\n",
    "plt.title('K-Nearest Neighbors Classification')\n",
    "plt.grid(True)"
   ]
  },
  {
   "cell_type": "code",
   "execution_count": null,
   "metadata": {},
   "outputs": [],
   "source": []
  }
 ],
 "metadata": {
  "kernelspec": {
   "display_name": "Python 3",
   "language": "python",
   "name": "python3"
  },
  "language_info": {
   "codemirror_mode": {
    "name": "ipython",
    "version": 3
   },
   "file_extension": ".py",
   "mimetype": "text/x-python",
   "name": "python",
   "nbconvert_exporter": "python",
   "pygments_lexer": "ipython3",
   "version": "3.7.4"
  }
 },
 "nbformat": 4,
 "nbformat_minor": 4
}
