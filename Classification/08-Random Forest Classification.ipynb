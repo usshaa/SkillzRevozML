{
 "cells": [
  {
   "cell_type": "markdown",
   "metadata": {},
   "source": [
    "### Random Forest Classification: Overview\n",
    "\n",
    "Random Forest Classification is an ensemble learning method that constructs multiple decision trees during training and outputs the mode (most frequent class) of the individual trees' predictions. This method enhances the classification accuracy and controls overfitting compared to individual decision trees.\n",
    "\n",
    "1. **Decision Trees**:\n",
    "   - **Nodes and Splits**: The dataset is split into subsets based on the feature that results in the most homogeneous subsets concerning the target class.\n",
    "   - **Splitting Criteria**: Common criteria include Gini impurity or entropy (information gain).\n",
    "   - **Leaf Nodes**: The terminal nodes of a tree that contain the predicted class.\n",
    "\n",
    "2. **Ensemble Learning**:\n",
    "   - **Bootstrap Aggregating (Bagging)**: Random subsets of the original dataset are created with replacement (bootstrapping), and each subset is used to train a decision tree.\n",
    "   - **Random Feature Selection**: At each split in the tree, a random subset of features is considered for splitting, which helps in making the trees less correlated.\n",
    "\n",
    "3. **Aggregation**:\n",
    "   - **Voting**: The final prediction of the random forest is obtained by taking the mode of the predictions from all the individual trees.\n",
    "\n",
    "### Example Data: Government Public Domain\n",
    "\n",
    "Let's consider an example where we predict whether a government department will get a high budget or low budget based on several factors.\n",
    "\n",
    "#### Example Data\n",
    "| Department | Budget Category | Staff Count | Projects Count | Avg Project Duration (months) |\n",
    "|------------|------------------|-------------|----------------|------------------------------|\n",
    "| Health     | High             | 2000        | 10             | 24                           |\n",
    "| Education  | Low              | 1500        | 7              | 18                           |\n",
    "| Defense    | High             | 5000        | 15             | 36                           |\n",
    "| Transport  | High             | 3000        | 12             | 30                           |\n",
    "| Agriculture| Low              | 1200        | 5              | 12                           |\n",
    "| ...        | ...              | ...         | ...            | ...                          |\n",
    "\n",
    "### Backend Math for Random Forest Classification\n",
    "\n",
    "1. **Training Decision Trees**:\n",
    "   - **Bootstrap Sample**: Randomly select subsets of data with replacement.\n",
    "   - **Feature Subset**: Randomly select a subset of features for each split.\n",
    "   - **Splitting**: Use Gini impurity or entropy to determine the best split.\n",
    "\n",
    "2. **Prediction**:\n",
    "   - **Individual Trees**: Each tree provides a predicted class.\n",
    "   - **Aggregation**: Mode of the predictions of all the trees."
   ]
  },
  {
   "cell_type": "markdown",
   "metadata": {},
   "source": [
    "### Implementation"
   ]
  },
  {
   "cell_type": "code",
   "execution_count": 1,
   "metadata": {},
   "outputs": [],
   "source": [
    "import numpy as np\n",
    "import pandas as pd\n",
    "from sklearn.model_selection import train_test_split\n",
    "from sklearn.ensemble import RandomForestClassifier\n",
    "from sklearn.metrics import accuracy_score, confusion_matrix, classification_report\n",
    "import seaborn as sns\n",
    "import matplotlib.pyplot as plt"
   ]
  },
  {
   "cell_type": "code",
   "execution_count": 2,
   "metadata": {},
   "outputs": [],
   "source": [
    "# Generate logical synthetic dataset\n",
    "np.random.seed(42)\n",
    "num_samples = 100\n",
    "staff_count = np.random.randint(500, 5000, num_samples)\n",
    "projects_count = np.random.randint(1, 20, num_samples)\n",
    "avg_project_duration = np.random.randint(6, 48, num_samples)\n",
    "\n",
    "# Logical relationship: High budget if sum of weighted features exceeds a threshold\n",
    "budget_threshold = 3500\n",
    "budget_category = (staff_count * 0.5 + projects_count * 100 + avg_project_duration * 50) > budget_threshold\n",
    "budget_category = np.where(budget_category, 'High', 'Low')\n",
    "\n",
    "data = {\n",
    "    'Department': np.random.choice(['Health', 'Education', 'Defense', 'Transport', 'Agriculture'], num_samples),\n",
    "    'Staff Count': staff_count,\n",
    "    'Projects Count': projects_count,\n",
    "    'Avg Project Duration': avg_project_duration,\n",
    "    'Budget Category': budget_category\n",
    "}"
   ]
  },
  {
   "cell_type": "code",
   "execution_count": 3,
   "metadata": {},
   "outputs": [],
   "source": [
    "# Create a DataFrame\n",
    "df = pd.DataFrame(data)"
   ]
  },
  {
   "cell_type": "code",
   "execution_count": 4,
   "metadata": {},
   "outputs": [],
   "source": [
    "# Features and target variable\n",
    "X = df[['Staff Count', 'Projects Count', 'Avg Project Duration']]\n",
    "y = df['Budget Category']"
   ]
  },
  {
   "cell_type": "code",
   "execution_count": 5,
   "metadata": {},
   "outputs": [],
   "source": [
    "# Split the data\n",
    "X_train, X_test, y_train, y_test = train_test_split(X, y, test_size=0.2, random_state=42)"
   ]
  },
  {
   "cell_type": "code",
   "execution_count": 6,
   "metadata": {},
   "outputs": [
    {
     "data": {
      "text/plain": [
       "RandomForestClassifier(random_state=42)"
      ]
     },
     "execution_count": 6,
     "metadata": {},
     "output_type": "execute_result"
    }
   ],
   "source": [
    "# Create and train the model\n",
    "rf = RandomForestClassifier(n_estimators=100, random_state=42)\n",
    "rf.fit(X_train, y_train)"
   ]
  },
  {
   "cell_type": "code",
   "execution_count": 7,
   "metadata": {},
   "outputs": [],
   "source": [
    "# Predictions\n",
    "y_pred = rf.predict(X_test)"
   ]
  },
  {
   "cell_type": "code",
   "execution_count": 8,
   "metadata": {},
   "outputs": [
    {
     "name": "stdout",
     "output_type": "stream",
     "text": [
      "Accuracy: 0.85\n",
      "Confusion Matrix:\n",
      "[[8 1]\n",
      " [2 9]]\n",
      "Classification Report:\n",
      "              precision    recall  f1-score   support\n",
      "\n",
      "        High       0.80      0.89      0.84         9\n",
      "         Low       0.90      0.82      0.86        11\n",
      "\n",
      "    accuracy                           0.85        20\n",
      "   macro avg       0.85      0.85      0.85        20\n",
      "weighted avg       0.86      0.85      0.85        20\n",
      "\n"
     ]
    }
   ],
   "source": [
    "# Evaluate the model\n",
    "accuracy = accuracy_score(y_test, y_pred)\n",
    "conf_matrix = confusion_matrix(y_test, y_pred)\n",
    "class_report = classification_report(y_test, y_pred)\n",
    "print(f'Accuracy: {accuracy}')\n",
    "print('Confusion Matrix:')\n",
    "print(conf_matrix)\n",
    "print('Classification Report:')\n",
    "print(class_report)"
   ]
  },
  {
   "cell_type": "code",
   "execution_count": 9,
   "metadata": {},
   "outputs": [
    {
     "data": {
      "image/png": "[encoded data removed]",
      "text/plain": [
       "<Figure size 576x432 with 2 Axes>"
      ]
     },
     "metadata": {
      "needs_background": "light"
     },
     "output_type": "display_data"
    }
   ],
   "source": [
    "# Visualization\n",
    "plt.figure(figsize=(8, 6))\n",
    "sns.heatmap(conf_matrix, annot=True, fmt='d', cmap='Blues', xticklabels=rf.classes_, yticklabels=rf.classes_)\n",
    "plt.xlabel('Predicted')\n",
    "plt.ylabel('Actual')\n",
    "plt.title('Confusion Matrix')\n",
    "plt.show()"
   ]
  },
  {
   "cell_type": "code",
   "execution_count": null,
   "metadata": {},
   "outputs": [],
   "source": []
  }
 ],
 "metadata": {
  "kernelspec": {
   "display_name": "Python 3",
   "language": "python",
   "name": "python3"
  },
  "language_info": {
   "codemirror_mode": {
    "name": "ipython",
    "version": 3
   },
   "file_extension": ".py",
   "mimetype": "text/x-python",
   "name": "python",
   "nbconvert_exporter": "python",
   "pygments_lexer": "ipython3",
   "version": "3.7.4"
  }
 },
 "nbformat": 4,
 "nbformat_minor": 4
}
